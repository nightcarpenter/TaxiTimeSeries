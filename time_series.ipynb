{
 "cells": [
  {
   "cell_type": "markdown",
   "metadata": {},
   "source": [
    "#  Прогнозирование заказов такси"
   ]
  },
  {
   "cell_type": "markdown",
   "metadata": {
    "toc": true
   },
   "source": [
    "<h1>Содержание<span class=\"tocSkip\"></span></h1>\n",
    "<div class=\"toc\"><ul class=\"toc-item\"><li><span><a href=\"#Описание-проекта\" data-toc-modified-id=\"Описание-проекта-1\"><span class=\"toc-item-num\">1&nbsp;&nbsp;</span>Описание проекта</a></span></li><li><span><a href=\"#Импорт-библиотек,-создание-констант,-установка-настроек\" data-toc-modified-id=\"Импорт-библиотек,-создание-констант,-установка-настроек-2\"><span class=\"toc-item-num\">2&nbsp;&nbsp;</span>Импорт библиотек, создание констант, установка настроек</a></span></li><li><span><a href=\"#Загрузка-данных\" data-toc-modified-id=\"Загрузка-данных-3\"><span class=\"toc-item-num\">3&nbsp;&nbsp;</span>Загрузка данных</a></span></li><li><span><a href=\"#Подготовка-данных\" data-toc-modified-id=\"Подготовка-данных-4\"><span class=\"toc-item-num\">4&nbsp;&nbsp;</span>Подготовка данных</a></span></li><li><span><a href=\"#Анализ-временного-ряда\" data-toc-modified-id=\"Анализ-временного-ряда-5\"><span class=\"toc-item-num\">5&nbsp;&nbsp;</span>Анализ временного ряда</a></span></li><li><span><a href=\"#Обучение-моделей,-подбор-параметров\" data-toc-modified-id=\"Обучение-моделей,-подбор-параметров-6\"><span class=\"toc-item-num\">6&nbsp;&nbsp;</span>Обучение моделей, подбор параметров</a></span></li><li><span><a href=\"#Анализ-лучшей-модели\" data-toc-modified-id=\"Анализ-лучшей-модели-7\"><span class=\"toc-item-num\">7&nbsp;&nbsp;</span>Анализ лучшей модели</a></span></li><li><span><a href=\"#Вывод\" data-toc-modified-id=\"Вывод-8\"><span class=\"toc-item-num\">8&nbsp;&nbsp;</span>Вывод</a></span></li></ul></div>"
   ]
  },
  {
   "cell_type": "markdown",
   "metadata": {},
   "source": [
    "## Описание проекта"
   ]
  },
  {
   "cell_type": "markdown",
   "metadata": {},
   "source": [
    "Компания агригатор собрала исторические данные о заказах такси в аэропортах. Чтобы привлекать больше водителей в период пиковой нагрузки, требуется спрогнозировать количество заказов такси на следующий час.\n",
    "\n",
    "Значение метрики *RMSE* на тестовой выборке должно быть не больше 48.\n",
    "\n",
    "**Этапы работы:**\n",
    "\n",
    "1. Загрузить данные и выполнить их ресемплирование по одному часу.\n",
    "2. Проанализировать данные.\n",
    "3. Обучить разные модели с различными гиперпараметрами. Сделать тестовую выборку размером 10% от исходных данных.\n",
    "4. Проверить данные на тестовой выборке.\n",
    "\n",
    "**Данные для исследования:**\n",
    "\n",
    "Данные лежат в файле `taxi.csv`. Количество заказов находится в столбце `num_orders` (от англ. *number of orders*, «число заказов»)."
   ]
  },
  {
   "cell_type": "markdown",
   "metadata": {},
   "source": [
    "## Импорт библиотек, создание констант, установка настроек"
   ]
  },
  {
   "cell_type": "code",
   "execution_count": 1,
   "metadata": {},
   "outputs": [],
   "source": [
    "# Загружаем основные библиотеки\n",
    "import time\n",
    "import math\n",
    "import pandas as pd\n",
    "import numpy as np\n",
    "from matplotlib import pyplot as plt\n",
    "import seaborn as sns"
   ]
  },
  {
   "cell_type": "code",
   "execution_count": 2,
   "metadata": {},
   "outputs": [],
   "source": [
    "# Импорт модулей для анализа временных рядов\n",
    "from statsmodels.tsa.seasonal import seasonal_decompose"
   ]
  },
  {
   "cell_type": "code",
   "execution_count": 3,
   "metadata": {},
   "outputs": [],
   "source": [
    "# Импортируем библиотеку optuna, для гиперпараметров, (если она не установлена, устанавливаем)\n",
    "try:\n",
    "    import optuna\n",
    "    from optuna.samplers import TPESampler\n",
    "except:\n",
    "    !pip install optuna -q\n",
    "    import optuna\n",
    "    from optuna.samplers import TPESampler"
   ]
  },
  {
   "cell_type": "code",
   "execution_count": 4,
   "metadata": {},
   "outputs": [],
   "source": [
    "# Импорт модулей для создания пайплайна\n",
    "from sklearn.pipeline import Pipeline\n",
    "from sklearn.compose import ColumnTransformer\n",
    "from sklearn.preprocessing import OneHotEncoder, StandardScaler, MinMaxScaler\n",
    "from sklearn.compose import make_column_selector as selector\n",
    "\n",
    "# Импорт модуля для разбивки данных на тренировочную и тестовую выборки и кроссвалидации\n",
    "from sklearn.model_selection import train_test_split, cross_val_score, TimeSeriesSplit\n",
    "\n",
    "# Импорт модулей для кодирования и масштабирования\n",
    "from sklearn.preprocessing import (LabelEncoder,\n",
    "                                   OneHotEncoder,\n",
    "                                   OrdinalEncoder,\n",
    "                                   StandardScaler, \n",
    "                                   MinMaxScaler, \n",
    "                                   RobustScaler, \n",
    "                                   FunctionTransformer)\n",
    "\n",
    "# Импорт моделей машинного обучения\n",
    "from sklearn.dummy import DummyRegressor\n",
    "from sklearn.linear_model import LogisticRegression, LinearRegression, Ridge\n",
    "from sklearn.neighbors import KNeighborsClassifier, KNeighborsRegressor\n",
    "from sklearn.tree import DecisionTreeClassifier, DecisionTreeRegressor\n",
    "from sklearn.svm import SVC\n",
    "from sklearn.ensemble import RandomForestClassifier, RandomForestRegressor\n",
    "from catboost import CatBoostClassifier, CatBoostRegressor\n",
    "\n",
    "# Импорт модулей для создания пайплайна\n",
    "from sklearn.compose import (ColumnTransformer,\n",
    "                             make_column_selector)\n",
    "\n",
    "# Импорт модуля для работы с пропусками\n",
    "from sklearn.impute import SimpleImputer, KNNImputer\n",
    "\n",
    "# Импорт метрик\n",
    "from sklearn.metrics import mean_squared_error, mean_absolute_error"
   ]
  },
  {
   "cell_type": "code",
   "execution_count": 5,
   "metadata": {},
   "outputs": [],
   "source": [
    "# Импортируем модель градиентного бустинга LightGBM\n",
    "import lightgbm as lgb"
   ]
  },
  {
   "cell_type": "code",
   "execution_count": 6,
   "metadata": {},
   "outputs": [],
   "source": [
    "# Убираем необязательные предупреждения\n",
    "import warnings\n",
    "warnings.filterwarnings('ignore')\n",
    "\n",
    "# Настраиваем отображение всех строк таблицы\n",
    "pd.set_option('display.max_rows', 100)\n",
    "pd.set_option('display.max_columns', 100)\n",
    "\n",
    "# Задаём стандартне параметры для графиков\n",
    "plt.rcParams['figure.figsize'] = (13, 5)\n",
    "plt.rcParams.update({'font.size':'12'})\n",
    "\n",
    "# Скрываем журнал с триалами\n",
    "optuna.logging.set_verbosity(optuna.logging.WARNING)"
   ]
  },
  {
   "cell_type": "code",
   "execution_count": 7,
   "metadata": {},
   "outputs": [],
   "source": [
    "# Создание констант\n",
    "RANDOM_STATE = 38"
   ]
  },
  {
   "cell_type": "markdown",
   "metadata": {},
   "source": [
    "## Загрузка данных"
   ]
  },
  {
   "cell_type": "code",
   "execution_count": 8,
   "metadata": {},
   "outputs": [
    {
     "name": "stdout",
     "output_type": "stream",
     "text": [
      "Размер датафрейма: (26496, 2)\n"
     ]
    }
   ],
   "source": [
    "# Загружаем данные\n",
    "try:\n",
    "    data = pd.read_csv('/datasets/taxi.csv', parse_dates=['datetime'])\n",
    "    print(f'Размер датафрейма: {data.shape}')\n",
    "except:\n",
    "    print('Данные не были загружены.')"
   ]
  },
  {
   "cell_type": "code",
   "execution_count": 9,
   "metadata": {},
   "outputs": [
    {
     "name": "stdout",
     "output_type": "stream",
     "text": [
      "<class 'pandas.core.frame.DataFrame'>\n",
      "RangeIndex: 26496 entries, 0 to 26495\n",
      "Data columns (total 2 columns):\n",
      " #   Column      Non-Null Count  Dtype         \n",
      "---  ------      --------------  -----         \n",
      " 0   datetime    26496 non-null  datetime64[ns]\n",
      " 1   num_orders  26496 non-null  int64         \n",
      "dtypes: datetime64[ns](1), int64(1)\n",
      "memory usage: 414.1 KB\n"
     ]
    }
   ],
   "source": [
    "# Просмотр общей информации\n",
    "data.info()"
   ]
  },
  {
   "cell_type": "code",
   "execution_count": 10,
   "metadata": {},
   "outputs": [
    {
     "data": {
      "text/html": [
       "<div>\n",
       "<style scoped>\n",
       "    .dataframe tbody tr th:only-of-type {\n",
       "        vertical-align: middle;\n",
       "    }\n",
       "\n",
       "    .dataframe tbody tr th {\n",
       "        vertical-align: top;\n",
       "    }\n",
       "\n",
       "    .dataframe thead th {\n",
       "        text-align: right;\n",
       "    }\n",
       "</style>\n",
       "<table border=\"1\" class=\"dataframe\">\n",
       "  <thead>\n",
       "    <tr style=\"text-align: right;\">\n",
       "      <th></th>\n",
       "      <th>datetime</th>\n",
       "      <th>num_orders</th>\n",
       "    </tr>\n",
       "  </thead>\n",
       "  <tbody>\n",
       "    <tr>\n",
       "      <th>0</th>\n",
       "      <td>2018-03-01 00:00:00</td>\n",
       "      <td>9</td>\n",
       "    </tr>\n",
       "    <tr>\n",
       "      <th>1</th>\n",
       "      <td>2018-03-01 00:10:00</td>\n",
       "      <td>14</td>\n",
       "    </tr>\n",
       "    <tr>\n",
       "      <th>2</th>\n",
       "      <td>2018-03-01 00:20:00</td>\n",
       "      <td>28</td>\n",
       "    </tr>\n",
       "    <tr>\n",
       "      <th>3</th>\n",
       "      <td>2018-03-01 00:30:00</td>\n",
       "      <td>20</td>\n",
       "    </tr>\n",
       "    <tr>\n",
       "      <th>4</th>\n",
       "      <td>2018-03-01 00:40:00</td>\n",
       "      <td>32</td>\n",
       "    </tr>\n",
       "  </tbody>\n",
       "</table>\n",
       "</div>"
      ],
      "text/plain": [
       "             datetime  num_orders\n",
       "0 2018-03-01 00:00:00           9\n",
       "1 2018-03-01 00:10:00          14\n",
       "2 2018-03-01 00:20:00          28\n",
       "3 2018-03-01 00:30:00          20\n",
       "4 2018-03-01 00:40:00          32"
      ]
     },
     "execution_count": 10,
     "metadata": {},
     "output_type": "execute_result"
    }
   ],
   "source": [
    "# Смотрим датафрейм\n",
    "data.head()"
   ]
  },
  {
   "cell_type": "markdown",
   "metadata": {},
   "source": [
    "**Итоги загрузки данных:**\n",
    "\n",
    "Данные были загружены. Данные соответствуют описанию."
   ]
  },
  {
   "cell_type": "markdown",
   "metadata": {},
   "source": [
    "## Подготовка данных"
   ]
  },
  {
   "cell_type": "code",
   "execution_count": 11,
   "metadata": {},
   "outputs": [
    {
     "name": "stdout",
     "output_type": "stream",
     "text": [
      "Размер ресемплированного датафрейма: (4416, 1)\n"
     ]
    },
    {
     "data": {
      "text/html": [
       "<div>\n",
       "<style scoped>\n",
       "    .dataframe tbody tr th:only-of-type {\n",
       "        vertical-align: middle;\n",
       "    }\n",
       "\n",
       "    .dataframe tbody tr th {\n",
       "        vertical-align: top;\n",
       "    }\n",
       "\n",
       "    .dataframe thead th {\n",
       "        text-align: right;\n",
       "    }\n",
       "</style>\n",
       "<table border=\"1\" class=\"dataframe\">\n",
       "  <thead>\n",
       "    <tr style=\"text-align: right;\">\n",
       "      <th></th>\n",
       "      <th>num_orders</th>\n",
       "    </tr>\n",
       "    <tr>\n",
       "      <th>datetime</th>\n",
       "      <th></th>\n",
       "    </tr>\n",
       "  </thead>\n",
       "  <tbody>\n",
       "    <tr>\n",
       "      <th>2018-03-01 00:00:00</th>\n",
       "      <td>124</td>\n",
       "    </tr>\n",
       "    <tr>\n",
       "      <th>2018-03-01 01:00:00</th>\n",
       "      <td>85</td>\n",
       "    </tr>\n",
       "    <tr>\n",
       "      <th>2018-03-01 02:00:00</th>\n",
       "      <td>71</td>\n",
       "    </tr>\n",
       "    <tr>\n",
       "      <th>2018-03-01 03:00:00</th>\n",
       "      <td>66</td>\n",
       "    </tr>\n",
       "    <tr>\n",
       "      <th>2018-03-01 04:00:00</th>\n",
       "      <td>43</td>\n",
       "    </tr>\n",
       "  </tbody>\n",
       "</table>\n",
       "</div>"
      ],
      "text/plain": [
       "                     num_orders\n",
       "datetime                       \n",
       "2018-03-01 00:00:00         124\n",
       "2018-03-01 01:00:00          85\n",
       "2018-03-01 02:00:00          71\n",
       "2018-03-01 03:00:00          66\n",
       "2018-03-01 04:00:00          43"
      ]
     },
     "execution_count": 11,
     "metadata": {},
     "output_type": "execute_result"
    }
   ],
   "source": [
    "# Устанавливаем столбец с датой в качестве индекса\n",
    "df = data.set_index('datetime')\n",
    "\n",
    "# Ресемплируем по одному часу\n",
    "df = df.resample('1H').sum()\n",
    "\n",
    "# Смотрим датафрейм\n",
    "print(f'Размер ресемплированного датафрейма: {df.shape}')\n",
    "df.head()"
   ]
  },
  {
   "cell_type": "markdown",
   "metadata": {},
   "source": [
    "Проверим, что все даты идут по порядку."
   ]
  },
  {
   "cell_type": "code",
   "execution_count": 12,
   "metadata": {},
   "outputs": [
    {
     "name": "stdout",
     "output_type": "stream",
     "text": [
      "Даты идут по порядку: True\n"
     ]
    }
   ],
   "source": [
    "print('Даты идут по порядку:', df.index.is_monotonic)"
   ]
  },
  {
   "cell_type": "markdown",
   "metadata": {},
   "source": [
    "Посмотрим диапазон дат."
   ]
  },
  {
   "cell_type": "code",
   "execution_count": 13,
   "metadata": {},
   "outputs": [
    {
     "name": "stdout",
     "output_type": "stream",
     "text": [
      "Начало временного ряда: 2018-03-01 00:00:00\n",
      "Конец временного ряда: 2018-08-31 23:00:00\n"
     ]
    }
   ],
   "source": [
    "print('Начало временного ряда:', df.index.min())\n",
    "print('Конец временного ряда:', df.index.max())"
   ]
  },
  {
   "cell_type": "markdown",
   "metadata": {},
   "source": [
    "Нам предоставлены даты с марта по август включительно."
   ]
  },
  {
   "cell_type": "markdown",
   "metadata": {},
   "source": [
    "**Итоги подготовки данных:**\n",
    "\n",
    "Данные были ресемплированы по 1 часу. Даты идут по порядку, с марта по август включительно."
   ]
  },
  {
   "cell_type": "markdown",
   "metadata": {},
   "source": [
    "## Анализ временного ряда"
   ]
  },
  {
   "cell_type": "markdown",
   "metadata": {},
   "source": [
    "**Посмотрим график временного ряда**"
   ]
  },
  {
   "cell_type": "code",
   "execution_count": 14,
   "metadata": {},
   "outputs": [
    {
     "data": {
      "image/png": "[encoded data removed]",
      "text/plain": [
       "<Figure size 936x360 with 1 Axes>"
      ]
     },
     "metadata": {
      "needs_background": "light"
     },
     "output_type": "display_data"
    }
   ],
   "source": [
    "df.plot()\n",
    "plt.title('График заказа такси по часам')\n",
    "plt.show()"
   ]
  },
  {
   "cell_type": "markdown",
   "metadata": {},
   "source": [
    "**Ресемплируем временной ряд по неделям и построим график, что бы определеть общую тенденцию**"
   ]
  },
  {
   "cell_type": "code",
   "execution_count": 15,
   "metadata": {},
   "outputs": [
    {
     "data": {
      "image/png": "[encoded data removed]",
      "text/plain": [
       "<Figure size 936x360 with 1 Axes>"
      ]
     },
     "metadata": {
      "needs_background": "light"
     },
     "output_type": "display_data"
    }
   ],
   "source": [
    "df.resample('1W').mean().plot()\n",
    "plt.title('График заказоа такси по неделям')\n",
    "plt.grid()\n",
    "plt.show()"
   ]
  },
  {
   "cell_type": "markdown",
   "metadata": {},
   "source": [
    "Видна явная тенденция на увеличение количества заказов. Скорее всего это связано с сезонностью, но возможно дело в том, что сервис активно развивается и привлекает новых клиентов."
   ]
  },
  {
   "cell_type": "markdown",
   "metadata": {},
   "source": [
    "**Посмотрим пару недель августа, что бы определить недельные тренды**"
   ]
  },
  {
   "cell_type": "code",
   "execution_count": 16,
   "metadata": {},
   "outputs": [
    {
     "data": {
      "image/png": "[encoded data removed]",
      "text/plain": [
       "<Figure size 936x360 with 1 Axes>"
      ]
     },
     "metadata": {
      "needs_background": "light"
     },
     "output_type": "display_data"
    }
   ],
   "source": [
    "df_daily = df.resample('1D').mean()\n",
    "df_last_month = df_daily['2018-08-12':'2018-08-27']\n",
    "\n",
    "ax = df_last_month.plot()\n",
    "ax.set_xticks(df_last_month.index)\n",
    "ax.set_xticklabels(df_last_month.index.strftime('%a %d'), rotation=45, ha='right')\n",
    "\n",
    "plt.title('График заказоа такси по дням за 2 недели августа')\n",
    "plt.grid()\n",
    "plt.show()\n",
    "\n",
    "del df_daily\n",
    "del df_last_month"
   ]
  },
  {
   "cell_type": "markdown",
   "metadata": {},
   "source": [
    "Больше всего заказов по понедельникам. Меньше всего по вторникам и воскресеньям."
   ]
  },
  {
   "cell_type": "markdown",
   "metadata": {},
   "source": [
    "**Посмотрим несколько дней августа, что бы определить суточные тренды**"
   ]
  },
  {
   "cell_type": "code",
   "execution_count": 17,
   "metadata": {},
   "outputs": [
    {
     "data": {
      "image/png": "[encoded data removed]",
      "text/plain": [
       "<Figure size 936x360 with 1 Axes>"
      ]
     },
     "metadata": {
      "needs_background": "light"
     },
     "output_type": "display_data"
    }
   ],
   "source": [
    "df['2018-08-28':'2018-08-29'].plot()\n",
    "plt.title('График заказоа такси по часам за последние дни августа')\n",
    "plt.grid()\n",
    "plt.show()"
   ]
  },
  {
   "cell_type": "markdown",
   "metadata": {},
   "source": [
    "- В районе 6:00, 13:00 и 18:00 наблюдаются спады количества заказов.\n",
    "- В районе 0:00, 10:00 и 16:00 наблюдаются пики количества заказов."
   ]
  },
  {
   "cell_type": "markdown",
   "metadata": {},
   "source": [
    "**Разложим временной ряд на тренд и сезонную компоненту, посмотрим общий тренд на графике**"
   ]
  },
  {
   "cell_type": "code",
   "execution_count": 18,
   "metadata": {},
   "outputs": [
    {
     "data": {
      "image/png": "[encoded data removed]",
      "text/plain": [
       "<Figure size 936x360 with 1 Axes>"
      ]
     },
     "metadata": {
      "needs_background": "light"
     },
     "output_type": "display_data"
    }
   ],
   "source": [
    "decomposed = seasonal_decompose(df)\n",
    "decomposed.trend.plot()\n",
    "plt.title('Общий тренд за весь период')\n",
    "plt.grid()\n",
    "plt.show()"
   ]
  },
  {
   "cell_type": "markdown",
   "metadata": {},
   "source": [
    "**Разложим временной ряд за август на тренд и сезонную компоненту**"
   ]
  },
  {
   "cell_type": "code",
   "execution_count": 19,
   "metadata": {},
   "outputs": [
    {
     "data": {
      "image/png": "[encoded data removed]",
      "text/plain": [
       "<Figure size 864x720 with 3 Axes>"
      ]
     },
     "metadata": {
      "needs_background": "light"
     },
     "output_type": "display_data"
    }
   ],
   "source": [
    "decomposed = seasonal_decompose(df['2018-08':]) \n",
    "\n",
    "plt.figure(figsize=(12, 10))\n",
    "plt.subplot(311)\n",
    "\n",
    "decomposed.trend.plot(ax=plt.gca())\n",
    "plt.title('Тренд')\n",
    "plt.subplot(312)\n",
    "\n",
    "decomposed.seasonal.plot(ax=plt.gca()) \n",
    "plt.title('Сезонность')\n",
    "plt.subplot(313)\n",
    "\n",
    "decomposed.resid.plot(ax=plt.gca()) \n",
    "plt.title('Остатки')\n",
    "plt.tight_layout()"
   ]
  },
  {
   "cell_type": "markdown",
   "metadata": {},
   "source": [
    "- Тренд связан с колебанием заказов в зависимости от дня недели, и общей тенденцией к увеличению количества заказов.\n",
    "- Сезонность связана со временем суток.\n",
    "- Остатки необъяснимы."
   ]
  },
  {
   "cell_type": "markdown",
   "metadata": {},
   "source": [
    "**Посмотрим среднее и скользящее стандартное отклонение**"
   ]
  },
  {
   "cell_type": "code",
   "execution_count": 20,
   "metadata": {},
   "outputs": [
    {
     "data": {
      "image/png": "[encoded data removed]",
      "text/plain": [
       "<Figure size 720x432 with 2 Axes>"
      ]
     },
     "metadata": {
      "needs_background": "light"
     },
     "output_type": "display_data"
    }
   ],
   "source": [
    "df_daily = df_daily = df.resample('1D').mean()\n",
    "df_daily['mean'] = df_daily['num_orders'].rolling(15).mean()\n",
    "df_daily['std'] = df_daily['num_orders'].rolling(15).std()\n",
    "\n",
    "plt.figure(figsize=(10, 6))\n",
    "plt.subplot(211)\n",
    "\n",
    "df_daily['mean'].plot(ax=plt.gca())\n",
    "plt.title('Среднее')\n",
    "plt.grid()\n",
    "plt.subplot(212)\n",
    "\n",
    "df_daily['std'].plot(ax=plt.gca())\n",
    "plt.title('Стандартное отклонение')\n",
    "plt.grid()\n",
    "plt.tight_layout()"
   ]
  },
  {
   "cell_type": "markdown",
   "metadata": {},
   "source": [
    "Ряд не стационарный, т.к. среднее и скользящее стандартное отклонения значительно меняются."
   ]
  },
  {
   "cell_type": "markdown",
   "metadata": {},
   "source": [
    "**Вывод:**\n",
    "\n",
    "- Проанализорован временной ряд с количеством заказов такси с марта по август (включительно).\n",
    "- Временно ряд не стационарный.\n",
    "- Видна общая тенденция к увеличению количества заказов.\n",
    "- Наблюдается сезонность по дням недели и по времени суток."
   ]
  },
  {
   "cell_type": "markdown",
   "metadata": {},
   "source": [
    "## Обучение моделей, подбор параметров"
   ]
  },
  {
   "cell_type": "markdown",
   "metadata": {},
   "source": [
    "**Разделяем датасет на тренировочную и тестовую выборки**"
   ]
  },
  {
   "cell_type": "code",
   "execution_count": 21,
   "metadata": {},
   "outputs": [
    {
     "name": "stdout",
     "output_type": "stream",
     "text": [
      "Тренировочная выборка с 2018-03-01 00:00:00, по 2018-08-13 13:00:00\n",
      "Тестовая выборка с 2018-08-13 14:00:00, по 2018-08-31 23:00:00\n"
     ]
    }
   ],
   "source": [
    "train, test = train_test_split(df, shuffle=False, test_size=0.1)\n",
    "\n",
    "print(f'Тренировочная выборка с {train.index.min()}, по {train.index.max()}')\n",
    "print(f'Тестовая выборка с {test.index.min()}, по {test.index.max()}')"
   ]
  },
  {
   "cell_type": "markdown",
   "metadata": {},
   "source": [
    "**Предскажим средним**"
   ]
  },
  {
   "cell_type": "code",
   "execution_count": 22,
   "metadata": {},
   "outputs": [
    {
     "name": "stdout",
     "output_type": "stream",
     "text": [
      "Среднее количество заказов такси в час на тестовой выборке: 139.56\n",
      "RMSE при предсказании средним: 87.15\n"
     ]
    }
   ],
   "source": [
    "print(f\"Среднее количество заказов такси в час на тестовой выборке: {test['num_orders'].mean():.2f}\")\n",
    "\n",
    "pred_median = [train['num_orders'].median()] * test.shape[0]\n",
    "rmse = mean_squared_error(test['num_orders'], pred_median, squared=False)\n",
    "print(f\"RMSE при предсказании средним: {rmse:.2f}\")"
   ]
  },
  {
   "cell_type": "markdown",
   "metadata": {},
   "source": [
    "**Предскажем предыдущим значением ряда**"
   ]
  },
  {
   "cell_type": "code",
   "execution_count": 23,
   "metadata": {},
   "outputs": [
    {
     "name": "stdout",
     "output_type": "stream",
     "text": [
      "Среднее количество заказов такси в час на тестовой выборке: 139.56\n",
      "RMSE при предсказании предыдущим значением ряда: 58.86\n"
     ]
    }
   ],
   "source": [
    "print(f\"Среднее количество заказов такси в час на тестовой выборке: {test['num_orders'].mean():.2f}\")\n",
    "\n",
    "pred_previous = test['num_orders'].shift()\n",
    "pred_previous.iloc[0] = train['num_orders'].iloc[-1]\n",
    "rmse = mean_squared_error(test['num_orders'], pred_previous, squared=False)\n",
    "print(f\"RMSE при предсказании предыдущим значением ряда: {rmse:.2f}\")"
   ]
  },
  {
   "cell_type": "markdown",
   "metadata": {},
   "source": [
    "**Удалим лишние переменные**"
   ]
  },
  {
   "cell_type": "code",
   "execution_count": 24,
   "metadata": {},
   "outputs": [],
   "source": [
    "del train, test"
   ]
  },
  {
   "cell_type": "markdown",
   "metadata": {},
   "source": [
    "**Добавим в датасет новые признаки**"
   ]
  },
  {
   "cell_type": "code",
   "execution_count": 25,
   "metadata": {},
   "outputs": [
    {
     "data": {
      "text/html": [
       "<div>\n",
       "<style scoped>\n",
       "    .dataframe tbody tr th:only-of-type {\n",
       "        vertical-align: middle;\n",
       "    }\n",
       "\n",
       "    .dataframe tbody tr th {\n",
       "        vertical-align: top;\n",
       "    }\n",
       "\n",
       "    .dataframe thead th {\n",
       "        text-align: right;\n",
       "    }\n",
       "</style>\n",
       "<table border=\"1\" class=\"dataframe\">\n",
       "  <thead>\n",
       "    <tr style=\"text-align: right;\">\n",
       "      <th></th>\n",
       "      <th>num_orders</th>\n",
       "      <th>month</th>\n",
       "      <th>day</th>\n",
       "      <th>dayofweek</th>\n",
       "      <th>lag_1</th>\n",
       "      <th>lag_2</th>\n",
       "      <th>lag_3</th>\n",
       "      <th>lag_4</th>\n",
       "      <th>lag_5</th>\n",
       "      <th>lag_6</th>\n",
       "      <th>lag_7</th>\n",
       "      <th>lag_8</th>\n",
       "      <th>lag_9</th>\n",
       "      <th>lag_10</th>\n",
       "      <th>lag_11</th>\n",
       "      <th>lag_12</th>\n",
       "      <th>lag_13</th>\n",
       "      <th>lag_14</th>\n",
       "      <th>lag_15</th>\n",
       "      <th>lag_16</th>\n",
       "      <th>lag_17</th>\n",
       "      <th>lag_18</th>\n",
       "      <th>lag_19</th>\n",
       "      <th>lag_20</th>\n",
       "      <th>lag_21</th>\n",
       "      <th>lag_22</th>\n",
       "      <th>lag_23</th>\n",
       "      <th>lag_24</th>\n",
       "      <th>lag_25</th>\n",
       "      <th>lag_26</th>\n",
       "      <th>lag_27</th>\n",
       "      <th>lag_28</th>\n",
       "      <th>lag_29</th>\n",
       "      <th>lag_30</th>\n",
       "      <th>lag_31</th>\n",
       "      <th>lag_32</th>\n",
       "      <th>lag_33</th>\n",
       "      <th>lag_34</th>\n",
       "      <th>lag_35</th>\n",
       "      <th>lag_36</th>\n",
       "      <th>lag_37</th>\n",
       "      <th>lag_38</th>\n",
       "      <th>lag_39</th>\n",
       "      <th>lag_40</th>\n",
       "      <th>lag_41</th>\n",
       "      <th>lag_42</th>\n",
       "      <th>lag_43</th>\n",
       "      <th>lag_44</th>\n",
       "      <th>lag_45</th>\n",
       "      <th>lag_46</th>\n",
       "      <th>lag_47</th>\n",
       "      <th>lag_48</th>\n",
       "      <th>rolling_mean</th>\n",
       "    </tr>\n",
       "    <tr>\n",
       "      <th>datetime</th>\n",
       "      <th></th>\n",
       "      <th></th>\n",
       "      <th></th>\n",
       "      <th></th>\n",
       "      <th></th>\n",
       "      <th></th>\n",
       "      <th></th>\n",
       "      <th></th>\n",
       "      <th></th>\n",
       "      <th></th>\n",
       "      <th></th>\n",
       "      <th></th>\n",
       "      <th></th>\n",
       "      <th></th>\n",
       "      <th></th>\n",
       "      <th></th>\n",
       "      <th></th>\n",
       "      <th></th>\n",
       "      <th></th>\n",
       "      <th></th>\n",
       "      <th></th>\n",
       "      <th></th>\n",
       "      <th></th>\n",
       "      <th></th>\n",
       "      <th></th>\n",
       "      <th></th>\n",
       "      <th></th>\n",
       "      <th></th>\n",
       "      <th></th>\n",
       "      <th></th>\n",
       "      <th></th>\n",
       "      <th></th>\n",
       "      <th></th>\n",
       "      <th></th>\n",
       "      <th></th>\n",
       "      <th></th>\n",
       "      <th></th>\n",
       "      <th></th>\n",
       "      <th></th>\n",
       "      <th></th>\n",
       "      <th></th>\n",
       "      <th></th>\n",
       "      <th></th>\n",
       "      <th></th>\n",
       "      <th></th>\n",
       "      <th></th>\n",
       "      <th></th>\n",
       "      <th></th>\n",
       "      <th></th>\n",
       "      <th></th>\n",
       "      <th></th>\n",
       "      <th></th>\n",
       "      <th></th>\n",
       "    </tr>\n",
       "  </thead>\n",
       "  <tbody>\n",
       "    <tr>\n",
       "      <th>2018-06-15 09:00:00</th>\n",
       "      <td>74</td>\n",
       "      <td>6</td>\n",
       "      <td>15</td>\n",
       "      <td>4</td>\n",
       "      <td>69.0</td>\n",
       "      <td>27.0</td>\n",
       "      <td>26.0</td>\n",
       "      <td>79.0</td>\n",
       "      <td>103.0</td>\n",
       "      <td>89.0</td>\n",
       "      <td>120.0</td>\n",
       "      <td>89.0</td>\n",
       "      <td>124.0</td>\n",
       "      <td>119.0</td>\n",
       "      <td>79.0</td>\n",
       "      <td>99.0</td>\n",
       "      <td>109.0</td>\n",
       "      <td>43.0</td>\n",
       "      <td>42.0</td>\n",
       "      <td>124.0</td>\n",
       "      <td>107.0</td>\n",
       "      <td>78.0</td>\n",
       "      <td>55.0</td>\n",
       "      <td>66.0</td>\n",
       "      <td>101.0</td>\n",
       "      <td>63.0</td>\n",
       "      <td>94.0</td>\n",
       "      <td>84.0</td>\n",
       "      <td>66.0</td>\n",
       "      <td>31.0</td>\n",
       "      <td>19.0</td>\n",
       "      <td>36.0</td>\n",
       "      <td>117.0</td>\n",
       "      <td>115.0</td>\n",
       "      <td>148.0</td>\n",
       "      <td>58.0</td>\n",
       "      <td>162.0</td>\n",
       "      <td>69.0</td>\n",
       "      <td>70.0</td>\n",
       "      <td>104.0</td>\n",
       "      <td>96.0</td>\n",
       "      <td>105.0</td>\n",
       "      <td>57.0</td>\n",
       "      <td>72.0</td>\n",
       "      <td>118.0</td>\n",
       "      <td>83.0</td>\n",
       "      <td>80.0</td>\n",
       "      <td>84.0</td>\n",
       "      <td>87.0</td>\n",
       "      <td>66.0</td>\n",
       "      <td>76.0</td>\n",
       "      <td>112.0</td>\n",
       "      <td>83.75</td>\n",
       "    </tr>\n",
       "  </tbody>\n",
       "</table>\n",
       "</div>"
      ],
      "text/plain": [
       "                     num_orders  month  day  dayofweek  lag_1  lag_2  lag_3  \\\n",
       "datetime                                                                      \n",
       "2018-06-15 09:00:00          74      6   15          4   69.0   27.0   26.0   \n",
       "\n",
       "                     lag_4  lag_5  lag_6  lag_7  lag_8  lag_9  lag_10  lag_11  \\\n",
       "datetime                                                                        \n",
       "2018-06-15 09:00:00   79.0  103.0   89.0  120.0   89.0  124.0   119.0    79.0   \n",
       "\n",
       "                     lag_12  lag_13  lag_14  lag_15  lag_16  lag_17  lag_18  \\\n",
       "datetime                                                                      \n",
       "2018-06-15 09:00:00    99.0   109.0    43.0    42.0   124.0   107.0    78.0   \n",
       "\n",
       "                     lag_19  lag_20  lag_21  lag_22  lag_23  lag_24  lag_25  \\\n",
       "datetime                                                                      \n",
       "2018-06-15 09:00:00    55.0    66.0   101.0    63.0    94.0    84.0    66.0   \n",
       "\n",
       "                     lag_26  lag_27  lag_28  lag_29  lag_30  lag_31  lag_32  \\\n",
       "datetime                                                                      \n",
       "2018-06-15 09:00:00    31.0    19.0    36.0   117.0   115.0   148.0    58.0   \n",
       "\n",
       "                     lag_33  lag_34  lag_35  lag_36  lag_37  lag_38  lag_39  \\\n",
       "datetime                                                                      \n",
       "2018-06-15 09:00:00   162.0    69.0    70.0   104.0    96.0   105.0    57.0   \n",
       "\n",
       "                     lag_40  lag_41  lag_42  lag_43  lag_44  lag_45  lag_46  \\\n",
       "datetime                                                                      \n",
       "2018-06-15 09:00:00    72.0   118.0    83.0    80.0    84.0    87.0    66.0   \n",
       "\n",
       "                     lag_47  lag_48  rolling_mean  \n",
       "datetime                                           \n",
       "2018-06-15 09:00:00    76.0   112.0         83.75  "
      ]
     },
     "execution_count": 25,
     "metadata": {},
     "output_type": "execute_result"
    }
   ],
   "source": [
    "def make_features(df, max_lag, rolling_mean_size):\n",
    "    data = df.copy()\n",
    "    \n",
    "    data['month'] = data.index.month\n",
    "    data['day'] = data.index.day\n",
    "    data['dayofweek'] = data.index.dayofweek\n",
    "    \n",
    "    for lag in range(1, max_lag + 1):\n",
    "        data['lag_{}'.format(lag)] = data['num_orders'].shift(lag)\n",
    "\n",
    "    data['rolling_mean'] = data['num_orders'].shift().rolling(rolling_mean_size).mean()\n",
    "    \n",
    "    return data\n",
    "\n",
    "df_for_models = make_features(df, 48, 48)\n",
    "df_for_models.sample()"
   ]
  },
  {
   "cell_type": "markdown",
   "metadata": {},
   "source": [
    "**Разделяем датасет на тренировочную и тестовую выборки, удаляем пропуски в новых признаках**"
   ]
  },
  {
   "cell_type": "code",
   "execution_count": 26,
   "metadata": {},
   "outputs": [
    {
     "name": "stdout",
     "output_type": "stream",
     "text": [
      "X_train:  (3926, 52)\n",
      "y_train:  (3926,)\n",
      "X_test:  (442, 52)\n",
      "y_test:  (442,)\n"
     ]
    }
   ],
   "source": [
    "train, test = train_test_split(df_for_models, shuffle=False, test_size=0.1)\n",
    "\n",
    "train = train.dropna() \n",
    "\n",
    "X_train = train.drop(columns='num_orders')\n",
    "y_train = train['num_orders']\n",
    "\n",
    "X_test = test.drop(columns='num_orders')\n",
    "y_test = test['num_orders']\n",
    "\n",
    "print('X_train: ', X_train.shape)\n",
    "print('y_train: ', y_train.shape)\n",
    "print('X_test: ', X_test.shape)\n",
    "print('y_test: ', y_test.shape)"
   ]
  },
  {
   "cell_type": "markdown",
   "metadata": {},
   "source": [
    "**Тестируем модель LGBMRegressor**"
   ]
  },
  {
   "cell_type": "code",
   "execution_count": 27,
   "metadata": {},
   "outputs": [],
   "source": [
    "# Функция для оптимизации гиперпараметров\n",
    "def objective(trial):\n",
    "    # Используем TimeSeriesSplit для кросс-валидации\n",
    "    tscv = TimeSeriesSplit(n_splits=5)    \n",
    "\n",
    "    # Задаем диапазоны гиперпараметров для подбора lgb\n",
    "    param = {\n",
    "        'n_estimators': 50,\n",
    "        'subsample': trial.suggest_float('subsample', 0.6, 1),\n",
    "        'learning_rate': trial.suggest_float('learning_rate', 0.05, 0.3),\n",
    "        'num_leaves': trial.suggest_int('num_leaves', 10, 30),\n",
    "        'min_child_samples': trial.suggest_int('min_child_samples', 5, 15),\n",
    "        'random_state': RANDOM_STATE\n",
    "    }\n",
    "    \n",
    "    model = lgb.LGBMRegressor(**param)\n",
    "    \n",
    "    # Оцениваем модель на кросс-валидации\n",
    "    score = cross_val_score(model, X_train, y_train, cv=tscv, scoring='neg_root_mean_squared_error')\n",
    "    \n",
    "    # Возвращаем средний отрицательный RMSE (для минимизации)\n",
    "    return -score.mean()"
   ]
  },
  {
   "cell_type": "code",
   "execution_count": 28,
   "metadata": {},
   "outputs": [
    {
     "data": {
      "application/vnd.jupyter.widget-view+json": {
       "model_id": "263a8829e4504109a435e5b563c990ad",
       "version_major": 2,
       "version_minor": 0
      },
      "text/plain": [
       "  0%|          | 0/10 [00:00<?, ?it/s]"
      ]
     },
     "metadata": {},
     "output_type": "display_data"
    },
    {
     "name": "stdout",
     "output_type": "stream",
     "text": [
      "Best parameters found by Optuna: {'subsample': 0.7652716050445982, 'learning_rate': 0.23229734323231227, 'num_leaves': 10, 'min_child_samples': 7}\n",
      "\n",
      "RMSE лучшей модели LGBMRegressor на кроссвалидации: 24.45\n"
     ]
    }
   ],
   "source": [
    "# Создаем объект для оптимизации с помощью Optuna\n",
    "sampler = TPESampler(seed=RANDOM_STATE)\n",
    "study = optuna.create_study(direction='minimize', sampler=sampler)\n",
    "study.optimize(objective, n_trials=10, show_progress_bar=True)\n",
    "\n",
    "# Выводим наилучшие параметры\n",
    "print(f\"Best parameters found by Optuna: {study.best_params}\")\n",
    "print()\n",
    "\n",
    "# Извлекаем лучшую метрику на кроссвалидации\n",
    "best_rmse = study.best_value\n",
    "print(f\"RMSE лучшей модели LGBMRegressor на кроссвалидации: {best_rmse:.2f}\")\n",
    "\n",
    "# Создаем модель с наилучшими параметрами и сохраняем её в переменную\n",
    "model_lgb = lgb.LGBMRegressor(**study.best_params, random_state=RANDOM_STATE)"
   ]
  },
  {
   "cell_type": "markdown",
   "metadata": {},
   "source": [
    "**Тестируем модель Ridge**"
   ]
  },
  {
   "cell_type": "code",
   "execution_count": 29,
   "metadata": {},
   "outputs": [],
   "source": [
    "# Функция для оптимизации гиперпараметров\n",
    "def objective(trial):\n",
    "    # Используем TimeSeriesSplit для кросс-валидации\n",
    "    tscv = TimeSeriesSplit(n_splits=5)   \n",
    "    \n",
    "    # Задаем диапазоны гиперпараметров для подбора\n",
    "    param = {\n",
    "        'alpha': trial.suggest_float('alpha', 0.5, 5.0),\n",
    "        'solver': trial.suggest_categorical('solver', ['auto', 'lsqr']),\n",
    "        'random_state': RANDOM_STATE\n",
    "    }\n",
    "    \n",
    "    model = Ridge(**param)\n",
    "    \n",
    "    # Оцениваем модель на кросс-валидации\n",
    "    score = cross_val_score(model, X_train, y_train, cv=tscv, scoring='neg_root_mean_squared_error')\n",
    "    \n",
    "    # Возвращаем средний отрицательный RMSE (для минимизации)\n",
    "    return -score.mean()"
   ]
  },
  {
   "cell_type": "code",
   "execution_count": 30,
   "metadata": {
    "scrolled": true
   },
   "outputs": [
    {
     "data": {
      "application/vnd.jupyter.widget-view+json": {
       "model_id": "e39967b972174f4896acfaf3801b8adc",
       "version_major": 2,
       "version_minor": 0
      },
      "text/plain": [
       "  0%|          | 0/10 [00:00<?, ?it/s]"
      ]
     },
     "metadata": {},
     "output_type": "display_data"
    },
    {
     "name": "stdout",
     "output_type": "stream",
     "text": [
      "Best parameters found by Optuna: {'alpha': 1.40057079286957, 'solver': 'auto'}\n",
      "\n",
      "RMSE лучшей модели Ridge на кроссвалидации: 24.60\n"
     ]
    }
   ],
   "source": [
    "# Создаем объект для оптимизации с помощью Optuna\n",
    "sampler = TPESampler(seed=RANDOM_STATE)\n",
    "study = optuna.create_study(direction='minimize', sampler=sampler)\n",
    "study.optimize(objective, n_trials=10, show_progress_bar=True)\n",
    "\n",
    "# Выводим наилучшие параметры\n",
    "print(f\"Best parameters found by Optuna: {study.best_params}\")\n",
    "print()\n",
    "\n",
    "# Извлекаем лучшую метрику на кроссвалидации\n",
    "best_rmse = study.best_value\n",
    "print(f\"RMSE лучшей модели Ridge на кроссвалидации: {best_rmse:.2f}\")\n",
    "\n",
    "# Создаем модель Ridge с наилучшими параметрами и сохраняем её в переменную\n",
    "model_ridge = Ridge(**study.best_params, random_state=RANDOM_STATE)"
   ]
  },
  {
   "cell_type": "markdown",
   "metadata": {},
   "source": [
    "**Итоги тестирования моделей**\n",
    "\n",
    "Было протестировано 2 модели:\n",
    "- LGBMRegressor\n",
    "- Ridge\n",
    "\n",
    "Лучший результат на кроссвалидации (TimeSeriesSplit) показала модель LGBMRegressor."
   ]
  },
  {
   "cell_type": "markdown",
   "metadata": {},
   "source": [
    "## Анализ лучшей модели"
   ]
  },
  {
   "cell_type": "markdown",
   "metadata": {},
   "source": [
    "**Проверяем модель на тестовой выборке**"
   ]
  },
  {
   "cell_type": "code",
   "execution_count": 31,
   "metadata": {},
   "outputs": [
    {
     "name": "stdout",
     "output_type": "stream",
     "text": [
      "RMSE модели LGBMRegressor на тестовой выборке: 40.67\n"
     ]
    }
   ],
   "source": [
    "model_lgb.fit(X_train, y_train)\n",
    "preds = model_lgb.predict(X_test)\n",
    "mse = mean_squared_error(y_test, preds)\n",
    "rmse = mean_squared_error(y_test, preds, squared=False)\n",
    "print(f\"RMSE модели LGBMRegressor на тестовой выборке: {rmse:.2f}\")"
   ]
  },
  {
   "cell_type": "markdown",
   "metadata": {},
   "source": [
    "**Визуализируем результаты работы модели на графике**"
   ]
  },
  {
   "cell_type": "code",
   "execution_count": 32,
   "metadata": {},
   "outputs": [
    {
     "data": {
      "image/png": "[encoded data removed]",
      "text/plain": [
       "<Figure size 1080x648 with 1 Axes>"
      ]
     },
     "metadata": {
      "needs_background": "light"
     },
     "output_type": "display_data"
    }
   ],
   "source": [
    "df_show = pd.DataFrame({'true': y_test, 'pred': preds})\n",
    "plt.figure(figsize=(15, 9))\n",
    "plt.title('Визуализация предсказаний модели и реальных данных')\n",
    "df_show.plot(ax=plt.gca())\n",
    "plt.grid()\n",
    "plt.show()"
   ]
  },
  {
   "cell_type": "markdown",
   "metadata": {},
   "source": [
    "Из данного графика можно сделать вывод, что модель работает достаточно точно. \n",
    "\n",
    "Модель дала заниженные предсказания в пиковые часы 20-го и 27-го августа (поскольку в конце августа пассажиро-поток увеличился, относительно тех данных, на которых обучалась модель). \n",
    "\n",
    "Кроме того, модель не смогла предсказать пиковые часы, 30-го - 31-го августа, которые не были связаны с сезонными колебаниями (по времени суток). Скорее всего это связано с приездом борльшого количества пассажиров перед 1-м сентября. Но для более точного обучения модели нужны данные за прошлый год."
   ]
  },
  {
   "cell_type": "markdown",
   "metadata": {},
   "source": [
    "## Вывод"
   ]
  },
  {
   "cell_type": "markdown",
   "metadata": {},
   "source": [
    "В ходе исследования был проанализорован временной ряд с количеством заказов такси с марта по август (включительно).\n",
    "\n",
    "О данном временом ряде можно сказать следующее:\n",
    "- Видна общая тенденция к увеличению количества заказов.\n",
    "- Наблюдается сезонность по дням недели и по времени суток.\n",
    "\n",
    "Для прогнозирования количества заказов на следующий час было протестировано две модели: LGBMRegressor и Ridge.\n",
    "\n",
    "Лучший результат показала модель LGBMRegressor, RMSE модели LGBMRegressor на тестовой выборке: 40.67\n",
    "\n",
    "Данный результат удовлетворяет требованию заказчика: \"Значение метрики RMSE на тестовой выборке должно быть не больше 48.\""
   ]
  }
 ],
 "metadata": {
  "ExecuteTimeLog": [
   {
    "duration": 1497,
    "start_time": "2024-08-15T10:03:09.449Z"
   },
   {
    "duration": 3880,
    "start_time": "2024-08-15T10:03:33.294Z"
   },
   {
    "duration": 301,
    "start_time": "2024-08-15T10:03:47.102Z"
   },
   {
    "duration": 24,
    "start_time": "2024-08-15T10:04:01.414Z"
   },
   {
    "duration": 4,
    "start_time": "2024-08-15T10:04:10.142Z"
   },
   {
    "duration": 3,
    "start_time": "2024-08-15T10:04:19.982Z"
   },
   {
    "duration": 96,
    "start_time": "2024-08-15T10:06:41.452Z"
   },
   {
    "duration": 12,
    "start_time": "2024-08-15T10:06:55.853Z"
   },
   {
    "duration": 13,
    "start_time": "2024-08-15T10:07:20.810Z"
   },
   {
    "duration": 74,
    "start_time": "2024-08-15T10:07:49.881Z"
   },
   {
    "duration": 4,
    "start_time": "2024-08-15T10:07:55.925Z"
   },
   {
    "duration": 4,
    "start_time": "2024-08-15T10:07:59.236Z"
   },
   {
    "duration": 51,
    "start_time": "2024-08-15T10:08:21.381Z"
   },
   {
    "duration": 18,
    "start_time": "2024-08-15T10:08:25.261Z"
   },
   {
    "duration": 10,
    "start_time": "2024-08-15T10:08:27.700Z"
   },
   {
    "duration": 128,
    "start_time": "2024-08-15T10:11:32.808Z"
   },
   {
    "duration": 8,
    "start_time": "2024-08-15T10:12:23.722Z"
   },
   {
    "duration": 13,
    "start_time": "2024-08-15T10:14:54.033Z"
   },
   {
    "duration": 15,
    "start_time": "2024-08-15T10:15:57.641Z"
   },
   {
    "duration": 16,
    "start_time": "2024-08-15T10:17:10.447Z"
   },
   {
    "duration": 1223,
    "start_time": "2024-08-15T10:17:25.889Z"
   },
   {
    "duration": 60,
    "start_time": "2024-08-15T10:17:27.113Z"
   },
   {
    "duration": 309,
    "start_time": "2024-08-15T10:17:27.176Z"
   },
   {
    "duration": 24,
    "start_time": "2024-08-15T10:17:27.486Z"
   },
   {
    "duration": 4,
    "start_time": "2024-08-15T10:17:27.512Z"
   },
   {
    "duration": 5,
    "start_time": "2024-08-15T10:17:27.517Z"
   },
   {
    "duration": 157,
    "start_time": "2024-08-15T10:17:27.524Z"
   },
   {
    "duration": 12,
    "start_time": "2024-08-15T10:17:27.685Z"
   },
   {
    "duration": 11,
    "start_time": "2024-08-15T10:17:27.699Z"
   },
   {
    "duration": 26,
    "start_time": "2024-08-15T10:17:27.712Z"
   },
   {
    "duration": 133,
    "start_time": "2024-08-15T10:50:16.120Z"
   },
   {
    "duration": 9,
    "start_time": "2024-08-15T10:50:39.016Z"
   },
   {
    "duration": 1192,
    "start_time": "2024-08-15T10:50:50.419Z"
   },
   {
    "duration": 60,
    "start_time": "2024-08-15T10:50:51.613Z"
   },
   {
    "duration": 306,
    "start_time": "2024-08-15T10:50:51.676Z"
   },
   {
    "duration": 25,
    "start_time": "2024-08-15T10:50:51.984Z"
   },
   {
    "duration": 4,
    "start_time": "2024-08-15T10:50:52.011Z"
   },
   {
    "duration": 6,
    "start_time": "2024-08-15T10:50:52.016Z"
   },
   {
    "duration": 63,
    "start_time": "2024-08-15T10:50:52.023Z"
   },
   {
    "duration": 12,
    "start_time": "2024-08-15T10:50:52.087Z"
   },
   {
    "duration": 12,
    "start_time": "2024-08-15T10:50:52.100Z"
   },
   {
    "duration": 156,
    "start_time": "2024-08-15T10:50:52.113Z"
   },
   {
    "duration": 19,
    "start_time": "2024-08-15T10:51:07.487Z"
   },
   {
    "duration": 16,
    "start_time": "2024-08-15T10:51:18.370Z"
   },
   {
    "duration": 12,
    "start_time": "2024-08-15T10:51:52.383Z"
   },
   {
    "duration": 405,
    "start_time": "2024-08-15T11:03:11.250Z"
   },
   {
    "duration": 266,
    "start_time": "2024-08-15T11:08:53.392Z"
   },
   {
    "duration": 351,
    "start_time": "2024-08-15T11:09:15.675Z"
   },
   {
    "duration": 2667,
    "start_time": "2024-08-15T11:09:23.024Z"
   },
   {
    "duration": 1356,
    "start_time": "2024-08-15T11:09:30.599Z"
   },
   {
    "duration": 1317,
    "start_time": "2024-08-15T11:10:18.359Z"
   },
   {
    "duration": 346,
    "start_time": "2024-08-15T11:10:32.473Z"
   },
   {
    "duration": 1202,
    "start_time": "2024-08-15T11:10:56.383Z"
   },
   {
    "duration": 56,
    "start_time": "2024-08-15T11:10:57.587Z"
   },
   {
    "duration": 302,
    "start_time": "2024-08-15T11:10:57.647Z"
   },
   {
    "duration": 26,
    "start_time": "2024-08-15T11:10:57.951Z"
   },
   {
    "duration": 4,
    "start_time": "2024-08-15T11:10:57.978Z"
   },
   {
    "duration": 35,
    "start_time": "2024-08-15T11:10:57.983Z"
   },
   {
    "duration": 75,
    "start_time": "2024-08-15T11:10:58.020Z"
   },
   {
    "duration": 12,
    "start_time": "2024-08-15T11:10:58.096Z"
   },
   {
    "duration": 16,
    "start_time": "2024-08-15T11:10:58.109Z"
   },
   {
    "duration": 38,
    "start_time": "2024-08-15T11:10:58.126Z"
   },
   {
    "duration": 356,
    "start_time": "2024-08-15T11:10:58.166Z"
   },
   {
    "duration": 266,
    "start_time": "2024-08-15T11:11:22.473Z"
   },
   {
    "duration": 201,
    "start_time": "2024-08-15T11:25:54.724Z"
   },
   {
    "duration": 229,
    "start_time": "2024-08-15T11:26:56.795Z"
   },
   {
    "duration": 238,
    "start_time": "2024-08-15T11:27:18.258Z"
   },
   {
    "duration": 248,
    "start_time": "2024-08-15T11:29:02.050Z"
   },
   {
    "duration": 248,
    "start_time": "2024-08-15T11:29:23.673Z"
   },
   {
    "duration": 205,
    "start_time": "2024-08-15T11:30:32.737Z"
   },
   {
    "duration": 279,
    "start_time": "2024-08-15T11:37:33.263Z"
   },
   {
    "duration": 178,
    "start_time": "2024-08-15T11:37:50.863Z"
   },
   {
    "duration": 3,
    "start_time": "2024-08-15T11:40:56.286Z"
   },
   {
    "duration": 3,
    "start_time": "2024-08-15T11:42:17.406Z"
   },
   {
    "duration": 3,
    "start_time": "2024-08-15T11:42:27.341Z"
   },
   {
    "duration": 3,
    "start_time": "2024-08-15T11:43:04.452Z"
   },
   {
    "duration": 1226,
    "start_time": "2024-08-15T11:43:52.649Z"
   },
   {
    "duration": 46,
    "start_time": "2024-08-15T11:43:53.877Z"
   },
   {
    "duration": 301,
    "start_time": "2024-08-15T11:43:53.925Z"
   },
   {
    "duration": 22,
    "start_time": "2024-08-15T11:43:54.228Z"
   },
   {
    "duration": 4,
    "start_time": "2024-08-15T11:43:54.252Z"
   },
   {
    "duration": 15,
    "start_time": "2024-08-15T11:43:54.260Z"
   },
   {
    "duration": 51,
    "start_time": "2024-08-15T11:43:54.277Z"
   },
   {
    "duration": 11,
    "start_time": "2024-08-15T11:43:54.329Z"
   },
   {
    "duration": 10,
    "start_time": "2024-08-15T11:43:54.342Z"
   },
   {
    "duration": 14,
    "start_time": "2024-08-15T11:43:54.354Z"
   },
   {
    "duration": 3,
    "start_time": "2024-08-15T11:43:54.370Z"
   },
   {
    "duration": 5,
    "start_time": "2024-08-15T11:43:54.375Z"
   },
   {
    "duration": 358,
    "start_time": "2024-08-15T11:43:54.382Z"
   },
   {
    "duration": 232,
    "start_time": "2024-08-15T11:43:54.742Z"
   },
   {
    "duration": 188,
    "start_time": "2024-08-15T11:43:54.976Z"
   },
   {
    "duration": 5,
    "start_time": "2024-08-15T11:43:55.167Z"
   },
   {
    "duration": 1167,
    "start_time": "2024-08-15T11:44:26.249Z"
   },
   {
    "duration": 46,
    "start_time": "2024-08-15T11:44:27.417Z"
   },
   {
    "duration": 279,
    "start_time": "2024-08-15T11:44:27.465Z"
   },
   {
    "duration": 25,
    "start_time": "2024-08-15T11:44:27.746Z"
   },
   {
    "duration": 8,
    "start_time": "2024-08-15T11:44:27.773Z"
   },
   {
    "duration": 7,
    "start_time": "2024-08-15T11:44:27.783Z"
   },
   {
    "duration": 54,
    "start_time": "2024-08-15T11:44:27.791Z"
   },
   {
    "duration": 11,
    "start_time": "2024-08-15T11:44:27.846Z"
   },
   {
    "duration": 10,
    "start_time": "2024-08-15T11:44:27.858Z"
   },
   {
    "duration": 16,
    "start_time": "2024-08-15T11:44:27.869Z"
   },
   {
    "duration": 3,
    "start_time": "2024-08-15T11:44:27.887Z"
   },
   {
    "duration": 11,
    "start_time": "2024-08-15T11:44:27.892Z"
   },
   {
    "duration": 361,
    "start_time": "2024-08-15T11:44:27.905Z"
   },
   {
    "duration": 218,
    "start_time": "2024-08-15T11:44:28.269Z"
   },
   {
    "duration": 171,
    "start_time": "2024-08-15T11:44:28.489Z"
   },
   {
    "duration": 5,
    "start_time": "2024-08-15T11:44:28.662Z"
   },
   {
    "duration": 3,
    "start_time": "2024-08-15T11:44:39.596Z"
   },
   {
    "duration": 3,
    "start_time": "2024-08-15T11:45:21.140Z"
   },
   {
    "duration": 235,
    "start_time": "2024-08-15T11:46:34.363Z"
   },
   {
    "duration": 179,
    "start_time": "2024-08-15T11:49:55.345Z"
   },
   {
    "duration": 171,
    "start_time": "2024-08-15T11:50:08.282Z"
   },
   {
    "duration": 195,
    "start_time": "2024-08-15T11:50:29.906Z"
   },
   {
    "duration": 206,
    "start_time": "2024-08-15T11:56:30.951Z"
   },
   {
    "duration": 1196,
    "start_time": "2024-08-15T11:56:54.764Z"
   },
   {
    "duration": 57,
    "start_time": "2024-08-15T11:56:55.962Z"
   },
   {
    "duration": 293,
    "start_time": "2024-08-15T11:56:56.020Z"
   },
   {
    "duration": 23,
    "start_time": "2024-08-15T11:56:56.315Z"
   },
   {
    "duration": 19,
    "start_time": "2024-08-15T11:56:56.341Z"
   },
   {
    "duration": 18,
    "start_time": "2024-08-15T11:56:56.362Z"
   },
   {
    "duration": 66,
    "start_time": "2024-08-15T11:56:56.382Z"
   },
   {
    "duration": 12,
    "start_time": "2024-08-15T11:56:56.450Z"
   },
   {
    "duration": 29,
    "start_time": "2024-08-15T11:56:56.463Z"
   },
   {
    "duration": 40,
    "start_time": "2024-08-15T11:56:56.494Z"
   },
   {
    "duration": 13,
    "start_time": "2024-08-15T11:56:56.536Z"
   },
   {
    "duration": 21,
    "start_time": "2024-08-15T11:56:56.551Z"
   },
   {
    "duration": 368,
    "start_time": "2024-08-15T11:56:56.573Z"
   },
   {
    "duration": 218,
    "start_time": "2024-08-15T11:56:56.944Z"
   },
   {
    "duration": 182,
    "start_time": "2024-08-15T11:56:57.164Z"
   },
   {
    "duration": 2,
    "start_time": "2024-08-15T11:56:57.347Z"
   },
   {
    "duration": 195,
    "start_time": "2024-08-15T11:58:49.124Z"
   },
   {
    "duration": 216,
    "start_time": "2024-08-15T11:59:53.126Z"
   },
   {
    "duration": 219,
    "start_time": "2024-08-15T12:02:04.635Z"
   },
   {
    "duration": 254,
    "start_time": "2024-08-15T12:02:44.244Z"
   },
   {
    "duration": 328,
    "start_time": "2024-08-15T12:04:38.739Z"
   },
   {
    "duration": 347,
    "start_time": "2024-08-15T12:04:55.307Z"
   },
   {
    "duration": 228,
    "start_time": "2024-08-15T12:05:34.215Z"
   },
   {
    "duration": 375,
    "start_time": "2024-08-15T12:06:13.859Z"
   },
   {
    "duration": 238,
    "start_time": "2024-08-15T12:06:24.979Z"
   },
   {
    "duration": 236,
    "start_time": "2024-08-15T12:10:10.505Z"
   },
   {
    "duration": 272,
    "start_time": "2024-08-15T12:13:54.968Z"
   },
   {
    "duration": 253,
    "start_time": "2024-08-15T12:14:16.703Z"
   },
   {
    "duration": 223,
    "start_time": "2024-08-15T12:15:10.600Z"
   },
   {
    "duration": 224,
    "start_time": "2024-08-15T12:18:04.354Z"
   },
   {
    "duration": 270,
    "start_time": "2024-08-15T12:18:30.550Z"
   },
   {
    "duration": 256,
    "start_time": "2024-08-15T12:19:04.544Z"
   },
   {
    "duration": 31,
    "start_time": "2024-08-15T12:22:03.662Z"
   },
   {
    "duration": 797,
    "start_time": "2024-08-15T12:23:25.700Z"
   },
   {
    "duration": 736,
    "start_time": "2024-08-15T12:23:41.932Z"
   },
   {
    "duration": 718,
    "start_time": "2024-08-15T12:24:01.869Z"
   },
   {
    "duration": 1045,
    "start_time": "2024-08-15T12:24:18.300Z"
   },
   {
    "duration": 884,
    "start_time": "2024-08-15T12:24:54.509Z"
   },
   {
    "duration": 743,
    "start_time": "2024-08-15T12:28:16.564Z"
   },
   {
    "duration": 790,
    "start_time": "2024-08-15T12:32:12.825Z"
   },
   {
    "duration": 130,
    "start_time": "2024-08-15T12:37:37.488Z"
   },
   {
    "duration": 182,
    "start_time": "2024-08-15T12:37:43.359Z"
   },
   {
    "duration": 159,
    "start_time": "2024-08-15T12:37:57.103Z"
   },
   {
    "duration": 178,
    "start_time": "2024-08-15T12:38:04.391Z"
   },
   {
    "duration": 171,
    "start_time": "2024-08-15T12:38:11.241Z"
   },
   {
    "duration": 191,
    "start_time": "2024-08-15T12:39:17.072Z"
   },
   {
    "duration": 161,
    "start_time": "2024-08-15T12:40:09.423Z"
   },
   {
    "duration": 182,
    "start_time": "2024-08-15T12:40:34.422Z"
   },
   {
    "duration": 182,
    "start_time": "2024-08-15T12:40:48.119Z"
   },
   {
    "duration": 187,
    "start_time": "2024-08-15T12:41:16.688Z"
   },
   {
    "duration": 206,
    "start_time": "2024-08-15T12:41:23.990Z"
   },
   {
    "duration": 1019,
    "start_time": "2024-08-15T12:53:37.097Z"
   },
   {
    "duration": 1126,
    "start_time": "2024-08-15T12:53:52.658Z"
   },
   {
    "duration": 13,
    "start_time": "2024-08-15T12:54:19.571Z"
   },
   {
    "duration": 440,
    "start_time": "2024-08-15T12:54:43.799Z"
   },
   {
    "duration": 13,
    "start_time": "2024-08-15T12:54:46.881Z"
   },
   {
    "duration": 1054,
    "start_time": "2024-08-15T12:55:16.194Z"
   },
   {
    "duration": 281,
    "start_time": "2024-08-15T12:55:48.698Z"
   },
   {
    "duration": 310,
    "start_time": "2024-08-15T12:57:10.481Z"
   },
   {
    "duration": 239,
    "start_time": "2024-08-15T13:00:26.328Z"
   },
   {
    "duration": 331,
    "start_time": "2024-08-15T13:03:10.247Z"
   },
   {
    "duration": 298,
    "start_time": "2024-08-15T13:03:23.271Z"
   },
   {
    "duration": 426,
    "start_time": "2024-08-15T13:03:40.856Z"
   },
   {
    "duration": 536,
    "start_time": "2024-08-15T13:04:41.031Z"
   },
   {
    "duration": 514,
    "start_time": "2024-08-15T13:06:05.713Z"
   },
   {
    "duration": 1455,
    "start_time": "2024-08-15T17:25:05.063Z"
   },
   {
    "duration": 26,
    "start_time": "2024-08-15T17:25:06.521Z"
   },
   {
    "duration": 4604,
    "start_time": "2024-08-15T17:25:06.549Z"
   },
   {
    "duration": 342,
    "start_time": "2024-08-15T17:25:11.155Z"
   },
   {
    "duration": 26,
    "start_time": "2024-08-15T17:25:11.500Z"
   },
   {
    "duration": 23,
    "start_time": "2024-08-15T17:25:11.528Z"
   },
   {
    "duration": 18,
    "start_time": "2024-08-15T17:25:11.552Z"
   },
   {
    "duration": 111,
    "start_time": "2024-08-15T17:25:11.572Z"
   },
   {
    "duration": 13,
    "start_time": "2024-08-15T17:25:11.684Z"
   },
   {
    "duration": 28,
    "start_time": "2024-08-15T17:25:11.698Z"
   },
   {
    "duration": 26,
    "start_time": "2024-08-15T17:25:11.728Z"
   },
   {
    "duration": 7,
    "start_time": "2024-08-15T17:25:11.764Z"
   },
   {
    "duration": 4,
    "start_time": "2024-08-15T17:25:11.773Z"
   },
   {
    "duration": 429,
    "start_time": "2024-08-15T17:25:11.781Z"
   },
   {
    "duration": 264,
    "start_time": "2024-08-15T17:25:12.212Z"
   },
   {
    "duration": 296,
    "start_time": "2024-08-15T17:25:12.478Z"
   },
   {
    "duration": 225,
    "start_time": "2024-08-15T17:25:12.775Z"
   },
   {
    "duration": 870,
    "start_time": "2024-08-15T17:25:13.002Z"
   },
   {
    "duration": 597,
    "start_time": "2024-08-15T17:25:13.874Z"
   },
   {
    "duration": 8,
    "start_time": "2024-08-15T17:41:31.833Z"
   },
   {
    "duration": 12,
    "start_time": "2024-08-15T17:41:47.040Z"
   },
   {
    "duration": 11,
    "start_time": "2024-08-15T17:42:44.056Z"
   },
   {
    "duration": 7,
    "start_time": "2024-08-15T17:43:12.681Z"
   },
   {
    "duration": 6,
    "start_time": "2024-08-15T17:43:28.199Z"
   },
   {
    "duration": 66,
    "start_time": "2024-08-15T17:48:04.636Z"
   },
   {
    "duration": 146,
    "start_time": "2024-08-15T17:50:42.523Z"
   },
   {
    "duration": 11,
    "start_time": "2024-08-15T17:50:49.122Z"
   },
   {
    "duration": 5,
    "start_time": "2024-08-15T17:51:01.899Z"
   },
   {
    "duration": 15,
    "start_time": "2024-08-15T17:52:01.661Z"
   },
   {
    "duration": 6,
    "start_time": "2024-08-15T17:52:42.722Z"
   },
   {
    "duration": 7,
    "start_time": "2024-08-15T17:52:49.098Z"
   },
   {
    "duration": 7,
    "start_time": "2024-08-15T17:53:48.378Z"
   },
   {
    "duration": 6,
    "start_time": "2024-08-15T17:53:55.682Z"
   },
   {
    "duration": 6,
    "start_time": "2024-08-15T17:54:36.617Z"
   },
   {
    "duration": 7,
    "start_time": "2024-08-15T17:55:07.641Z"
   },
   {
    "duration": 8,
    "start_time": "2024-08-15T17:59:42.840Z"
   },
   {
    "duration": 9,
    "start_time": "2024-08-15T18:00:01.109Z"
   },
   {
    "duration": 1091,
    "start_time": "2024-08-15T18:16:23.296Z"
   },
   {
    "duration": 22,
    "start_time": "2024-08-15T18:16:48.318Z"
   },
   {
    "duration": 3,
    "start_time": "2024-08-15T18:17:42.269Z"
   },
   {
    "duration": 9,
    "start_time": "2024-08-15T18:17:59.628Z"
   },
   {
    "duration": 1365,
    "start_time": "2024-08-15T20:23:54.792Z"
   },
   {
    "duration": 23,
    "start_time": "2024-08-15T20:23:56.159Z"
   },
   {
    "duration": 3662,
    "start_time": "2024-08-15T20:23:56.183Z"
   },
   {
    "duration": 292,
    "start_time": "2024-08-15T20:23:59.846Z"
   },
   {
    "duration": 23,
    "start_time": "2024-08-15T20:24:00.147Z"
   },
   {
    "duration": 5,
    "start_time": "2024-08-15T20:24:00.172Z"
   },
   {
    "duration": 44,
    "start_time": "2024-08-15T20:24:00.178Z"
   },
   {
    "duration": 140,
    "start_time": "2024-08-15T20:24:00.224Z"
   },
   {
    "duration": 14,
    "start_time": "2024-08-15T20:24:00.366Z"
   },
   {
    "duration": 50,
    "start_time": "2024-08-15T20:24:00.381Z"
   },
   {
    "duration": 50,
    "start_time": "2024-08-15T20:24:00.433Z"
   },
   {
    "duration": 13,
    "start_time": "2024-08-15T20:24:00.485Z"
   },
   {
    "duration": 31,
    "start_time": "2024-08-15T20:24:00.500Z"
   },
   {
    "duration": 486,
    "start_time": "2024-08-15T20:24:00.535Z"
   },
   {
    "duration": 252,
    "start_time": "2024-08-15T20:24:01.023Z"
   },
   {
    "duration": 238,
    "start_time": "2024-08-15T20:24:01.277Z"
   },
   {
    "duration": 192,
    "start_time": "2024-08-15T20:24:01.517Z"
   },
   {
    "duration": 711,
    "start_time": "2024-08-15T20:24:01.710Z"
   },
   {
    "duration": 526,
    "start_time": "2024-08-15T20:24:02.423Z"
   },
   {
    "duration": 5,
    "start_time": "2024-08-15T20:24:02.951Z"
   },
   {
    "duration": 7,
    "start_time": "2024-08-15T20:24:02.958Z"
   },
   {
    "duration": 19,
    "start_time": "2024-08-15T20:24:02.966Z"
   },
   {
    "duration": 7,
    "start_time": "2024-08-15T20:24:02.986Z"
   },
   {
    "duration": 31,
    "start_time": "2024-08-15T20:24:02.994Z"
   },
   {
    "duration": 24,
    "start_time": "2024-08-15T20:24:03.026Z"
   },
   {
    "duration": 10,
    "start_time": "2024-08-15T20:28:28.360Z"
   },
   {
    "duration": 141,
    "start_time": "2024-08-15T20:28:46.409Z"
   },
   {
    "duration": 108,
    "start_time": "2024-08-15T20:29:02.544Z"
   },
   {
    "duration": 17,
    "start_time": "2024-08-15T20:29:50.048Z"
   },
   {
    "duration": 5,
    "start_time": "2024-08-15T20:34:29.726Z"
   },
   {
    "duration": 6,
    "start_time": "2024-08-15T20:34:42.629Z"
   },
   {
    "duration": 16,
    "start_time": "2024-08-15T20:34:58.021Z"
   },
   {
    "duration": 21,
    "start_time": "2024-08-15T20:35:22.853Z"
   },
   {
    "duration": 10,
    "start_time": "2024-08-15T20:35:25.988Z"
   },
   {
    "duration": 55,
    "start_time": "2024-08-15T20:35:28.893Z"
   },
   {
    "duration": 11,
    "start_time": "2024-08-15T20:35:57.189Z"
   },
   {
    "duration": 20,
    "start_time": "2024-08-15T20:36:11.148Z"
   },
   {
    "duration": 11,
    "start_time": "2024-08-15T20:36:13.340Z"
   },
   {
    "duration": 172,
    "start_time": "2024-08-15T20:36:15.677Z"
   },
   {
    "duration": 22,
    "start_time": "2024-08-15T20:36:26.668Z"
   },
   {
    "duration": 15,
    "start_time": "2024-08-15T20:36:28.301Z"
   },
   {
    "duration": 78,
    "start_time": "2024-08-15T20:36:31.878Z"
   },
   {
    "duration": 8,
    "start_time": "2024-08-15T20:37:00.574Z"
   },
   {
    "duration": 6,
    "start_time": "2024-08-15T20:37:04.985Z"
   },
   {
    "duration": 6,
    "start_time": "2024-08-15T20:37:09.251Z"
   },
   {
    "duration": 8,
    "start_time": "2024-08-15T20:37:14.827Z"
   },
   {
    "duration": 6,
    "start_time": "2024-08-15T20:37:17.234Z"
   },
   {
    "duration": 1137,
    "start_time": "2024-08-15T20:37:48.408Z"
   },
   {
    "duration": 21,
    "start_time": "2024-08-15T20:37:49.548Z"
   },
   {
    "duration": 44,
    "start_time": "2024-08-15T20:37:49.571Z"
   },
   {
    "duration": 296,
    "start_time": "2024-08-15T20:37:49.617Z"
   },
   {
    "duration": 23,
    "start_time": "2024-08-15T20:37:49.915Z"
   },
   {
    "duration": 4,
    "start_time": "2024-08-15T20:37:49.946Z"
   },
   {
    "duration": 4,
    "start_time": "2024-08-15T20:37:49.951Z"
   },
   {
    "duration": 52,
    "start_time": "2024-08-15T20:37:49.956Z"
   },
   {
    "duration": 10,
    "start_time": "2024-08-15T20:37:50.009Z"
   },
   {
    "duration": 30,
    "start_time": "2024-08-15T20:37:50.020Z"
   },
   {
    "duration": 45,
    "start_time": "2024-08-15T20:37:50.052Z"
   },
   {
    "duration": 4,
    "start_time": "2024-08-15T20:37:50.098Z"
   },
   {
    "duration": 5,
    "start_time": "2024-08-15T20:37:50.103Z"
   },
   {
    "duration": 342,
    "start_time": "2024-08-15T20:37:50.111Z"
   },
   {
    "duration": 205,
    "start_time": "2024-08-15T20:37:50.454Z"
   },
   {
    "duration": 229,
    "start_time": "2024-08-15T20:37:50.661Z"
   },
   {
    "duration": 210,
    "start_time": "2024-08-15T20:37:50.892Z"
   },
   {
    "duration": 717,
    "start_time": "2024-08-15T20:37:51.104Z"
   },
   {
    "duration": 487,
    "start_time": "2024-08-15T20:37:51.823Z"
   },
   {
    "duration": 5,
    "start_time": "2024-08-15T20:37:52.312Z"
   },
   {
    "duration": 21,
    "start_time": "2024-08-15T20:37:52.318Z"
   },
   {
    "duration": 8,
    "start_time": "2024-08-15T20:37:52.341Z"
   },
   {
    "duration": 3,
    "start_time": "2024-08-15T20:37:52.350Z"
   },
   {
    "duration": 22,
    "start_time": "2024-08-15T20:37:52.355Z"
   },
   {
    "duration": 10,
    "start_time": "2024-08-15T20:37:52.378Z"
   },
   {
    "duration": 163,
    "start_time": "2024-08-15T20:37:52.389Z"
   },
   {
    "duration": 23,
    "start_time": "2024-08-15T20:37:52.554Z"
   },
   {
    "duration": 17,
    "start_time": "2024-08-15T20:40:13.269Z"
   },
   {
    "duration": 25,
    "start_time": "2024-08-15T20:41:51.447Z"
   },
   {
    "duration": 11,
    "start_time": "2024-08-15T20:41:53.814Z"
   },
   {
    "duration": 4,
    "start_time": "2024-08-15T20:41:56.766Z"
   },
   {
    "duration": 162,
    "start_time": "2024-08-15T20:42:02.885Z"
   },
   {
    "duration": 20,
    "start_time": "2024-08-15T20:42:10.568Z"
   },
   {
    "duration": 15,
    "start_time": "2024-08-15T20:42:14.927Z"
   },
   {
    "duration": 22,
    "start_time": "2024-08-15T20:42:16.934Z"
   },
   {
    "duration": 35,
    "start_time": "2024-08-15T20:42:23.734Z"
   },
   {
    "duration": 10,
    "start_time": "2024-08-15T20:42:25.711Z"
   },
   {
    "duration": 17,
    "start_time": "2024-08-15T20:42:28.125Z"
   },
   {
    "duration": 13,
    "start_time": "2024-08-15T20:42:33.575Z"
   },
   {
    "duration": 1138,
    "start_time": "2024-08-15T20:42:42.869Z"
   },
   {
    "duration": 20,
    "start_time": "2024-08-15T20:42:44.009Z"
   },
   {
    "duration": 54,
    "start_time": "2024-08-15T20:42:44.030Z"
   },
   {
    "duration": 268,
    "start_time": "2024-08-15T20:42:44.086Z"
   },
   {
    "duration": 21,
    "start_time": "2024-08-15T20:42:44.356Z"
   },
   {
    "duration": 4,
    "start_time": "2024-08-15T20:42:44.378Z"
   },
   {
    "duration": 6,
    "start_time": "2024-08-15T20:42:44.383Z"
   },
   {
    "duration": 50,
    "start_time": "2024-08-15T20:42:44.390Z"
   },
   {
    "duration": 10,
    "start_time": "2024-08-15T20:42:44.442Z"
   },
   {
    "duration": 9,
    "start_time": "2024-08-15T20:42:44.453Z"
   },
   {
    "duration": 13,
    "start_time": "2024-08-15T20:42:44.463Z"
   },
   {
    "duration": 3,
    "start_time": "2024-08-15T20:42:44.478Z"
   },
   {
    "duration": 7,
    "start_time": "2024-08-15T20:42:44.482Z"
   },
   {
    "duration": 380,
    "start_time": "2024-08-15T20:42:44.491Z"
   },
   {
    "duration": 231,
    "start_time": "2024-08-15T20:42:44.872Z"
   },
   {
    "duration": 268,
    "start_time": "2024-08-15T20:42:45.105Z"
   },
   {
    "duration": 189,
    "start_time": "2024-08-15T20:42:45.374Z"
   },
   {
    "duration": 697,
    "start_time": "2024-08-15T20:42:45.564Z"
   },
   {
    "duration": 477,
    "start_time": "2024-08-15T20:42:46.263Z"
   },
   {
    "duration": 8,
    "start_time": "2024-08-15T20:42:46.743Z"
   },
   {
    "duration": 7,
    "start_time": "2024-08-15T20:42:46.753Z"
   },
   {
    "duration": 68,
    "start_time": "2024-08-15T20:42:46.762Z"
   },
   {
    "duration": 5,
    "start_time": "2024-08-15T20:42:46.832Z"
   },
   {
    "duration": 36,
    "start_time": "2024-08-15T20:42:46.838Z"
   },
   {
    "duration": 10,
    "start_time": "2024-08-15T20:42:46.875Z"
   },
   {
    "duration": 162,
    "start_time": "2024-08-15T20:42:46.886Z"
   },
   {
    "duration": 109,
    "start_time": "2024-08-15T20:42:47.050Z"
   },
   {
    "duration": 91,
    "start_time": "2024-08-15T20:42:54.157Z"
   },
   {
    "duration": 18,
    "start_time": "2024-08-15T20:42:59.422Z"
   },
   {
    "duration": 11,
    "start_time": "2024-08-15T20:42:59.442Z"
   },
   {
    "duration": 94,
    "start_time": "2024-08-15T20:42:59.454Z"
   },
   {
    "duration": 6,
    "start_time": "2024-08-15T20:44:51.181Z"
   },
   {
    "duration": 153,
    "start_time": "2024-08-15T20:44:53.484Z"
   },
   {
    "duration": 4,
    "start_time": "2024-08-15T20:45:40.509Z"
   },
   {
    "duration": 52,
    "start_time": "2024-08-15T20:45:42.775Z"
   },
   {
    "duration": 4,
    "start_time": "2024-08-15T20:46:29.708Z"
   },
   {
    "duration": 6948,
    "start_time": "2024-08-15T20:46:32.908Z"
   },
   {
    "duration": 7,
    "start_time": "2024-08-15T20:50:20.746Z"
   },
   {
    "duration": 6,
    "start_time": "2024-08-15T20:50:51.587Z"
   },
   {
    "duration": 5,
    "start_time": "2024-08-15T20:51:04.138Z"
   },
   {
    "duration": 5,
    "start_time": "2024-08-15T20:51:06.219Z"
   },
   {
    "duration": 5,
    "start_time": "2024-08-15T21:10:38.784Z"
   },
   {
    "duration": 7572,
    "start_time": "2024-08-15T21:10:40.986Z"
   },
   {
    "duration": 4,
    "start_time": "2024-08-15T21:11:15.416Z"
   },
   {
    "duration": 37,
    "start_time": "2024-08-15T21:11:26.552Z"
   },
   {
    "duration": 4,
    "start_time": "2024-08-15T21:11:46.423Z"
   },
   {
    "duration": 637,
    "start_time": "2024-08-15T21:11:48.626Z"
   },
   {
    "duration": 7,
    "start_time": "2024-08-15T21:12:40.902Z"
   },
   {
    "duration": 29513,
    "start_time": "2024-08-15T21:12:43.535Z"
   },
   {
    "duration": 4,
    "start_time": "2024-08-15T21:13:40.822Z"
   },
   {
    "duration": 51,
    "start_time": "2024-08-15T21:13:42.799Z"
   },
   {
    "duration": 4,
    "start_time": "2024-08-15T21:13:53.334Z"
   },
   {
    "duration": 39443,
    "start_time": "2024-08-15T21:13:55.214Z"
   },
   {
    "duration": 5,
    "start_time": "2024-08-15T21:14:41.910Z"
   },
   {
    "duration": 25943,
    "start_time": "2024-08-15T21:14:44.015Z"
   },
   {
    "duration": 4,
    "start_time": "2024-08-15T21:15:21.085Z"
   },
   {
    "duration": 601,
    "start_time": "2024-08-15T21:15:23.661Z"
   },
   {
    "duration": 3597,
    "start_time": "2024-08-15T21:15:30.271Z"
   },
   {
    "duration": 749,
    "start_time": "2024-08-15T21:19:13.266Z"
   },
   {
    "duration": 1245,
    "start_time": "2024-08-15T21:19:44.539Z"
   },
   {
    "duration": 21,
    "start_time": "2024-08-15T21:19:45.785Z"
   },
   {
    "duration": 54,
    "start_time": "2024-08-15T21:19:45.808Z"
   },
   {
    "duration": 289,
    "start_time": "2024-08-15T21:19:45.864Z"
   },
   {
    "duration": 23,
    "start_time": "2024-08-15T21:19:46.155Z"
   },
   {
    "duration": 4,
    "start_time": "2024-08-15T21:19:46.180Z"
   },
   {
    "duration": 9,
    "start_time": "2024-08-15T21:19:46.185Z"
   },
   {
    "duration": 53,
    "start_time": "2024-08-15T21:19:46.195Z"
   },
   {
    "duration": 10,
    "start_time": "2024-08-15T21:19:46.249Z"
   },
   {
    "duration": 10,
    "start_time": "2024-08-15T21:19:46.261Z"
   },
   {
    "duration": 14,
    "start_time": "2024-08-15T21:19:46.273Z"
   },
   {
    "duration": 4,
    "start_time": "2024-08-15T21:19:46.289Z"
   },
   {
    "duration": 5,
    "start_time": "2024-08-15T21:19:46.294Z"
   },
   {
    "duration": 387,
    "start_time": "2024-08-15T21:19:46.301Z"
   },
   {
    "duration": 198,
    "start_time": "2024-08-15T21:19:46.689Z"
   },
   {
    "duration": 244,
    "start_time": "2024-08-15T21:19:46.888Z"
   },
   {
    "duration": 192,
    "start_time": "2024-08-15T21:19:47.133Z"
   },
   {
    "duration": 687,
    "start_time": "2024-08-15T21:19:47.326Z"
   },
   {
    "duration": 492,
    "start_time": "2024-08-15T21:19:48.015Z"
   },
   {
    "duration": 5,
    "start_time": "2024-08-15T21:19:48.509Z"
   },
   {
    "duration": 10,
    "start_time": "2024-08-15T21:19:48.516Z"
   },
   {
    "duration": 22,
    "start_time": "2024-08-15T21:19:48.527Z"
   },
   {
    "duration": 18,
    "start_time": "2024-08-15T21:19:48.551Z"
   },
   {
    "duration": 33,
    "start_time": "2024-08-15T21:19:48.570Z"
   },
   {
    "duration": 10,
    "start_time": "2024-08-15T21:19:48.605Z"
   },
   {
    "duration": 4,
    "start_time": "2024-08-15T21:19:48.617Z"
   },
   {
    "duration": 27727,
    "start_time": "2024-08-15T21:19:48.622Z"
   },
   {
    "duration": 4,
    "start_time": "2024-08-15T21:20:16.351Z"
   },
   {
    "duration": 3418,
    "start_time": "2024-08-15T21:20:16.356Z"
   },
   {
    "duration": 4020,
    "start_time": "2024-08-15T21:22:58.437Z"
   },
   {
    "duration": 4,
    "start_time": "2024-08-15T21:23:18.208Z"
   },
   {
    "duration": 24292,
    "start_time": "2024-08-15T21:23:20.365Z"
   },
   {
    "duration": 72,
    "start_time": "2024-08-15T21:24:25.005Z"
   },
   {
    "duration": 5,
    "start_time": "2024-08-15T21:32:33.856Z"
   },
   {
    "duration": 4,
    "start_time": "2024-08-15T21:35:56.094Z"
   },
   {
    "duration": 25309,
    "start_time": "2024-08-15T21:35:58.247Z"
   },
   {
    "duration": 5,
    "start_time": "2024-08-15T21:37:10.892Z"
   },
   {
    "duration": 2848,
    "start_time": "2024-08-15T21:37:13.815Z"
   },
   {
    "duration": 1066,
    "start_time": "2024-08-15T21:38:53.302Z"
   },
   {
    "duration": 22,
    "start_time": "2024-08-15T21:38:54.370Z"
   },
   {
    "duration": 54,
    "start_time": "2024-08-15T21:38:54.393Z"
   },
   {
    "duration": 309,
    "start_time": "2024-08-15T21:38:54.448Z"
   },
   {
    "duration": 21,
    "start_time": "2024-08-15T21:38:54.759Z"
   },
   {
    "duration": 4,
    "start_time": "2024-08-15T21:38:54.781Z"
   },
   {
    "duration": 9,
    "start_time": "2024-08-15T21:38:54.786Z"
   },
   {
    "duration": 53,
    "start_time": "2024-08-15T21:38:54.796Z"
   },
   {
    "duration": 10,
    "start_time": "2024-08-15T21:38:54.850Z"
   },
   {
    "duration": 18,
    "start_time": "2024-08-15T21:38:54.861Z"
   },
   {
    "duration": 14,
    "start_time": "2024-08-15T21:38:54.881Z"
   },
   {
    "duration": 3,
    "start_time": "2024-08-15T21:38:54.896Z"
   },
   {
    "duration": 29,
    "start_time": "2024-08-15T21:38:54.901Z"
   },
   {
    "duration": 368,
    "start_time": "2024-08-15T21:38:54.933Z"
   },
   {
    "duration": 201,
    "start_time": "2024-08-15T21:38:55.303Z"
   },
   {
    "duration": 229,
    "start_time": "2024-08-15T21:38:55.506Z"
   },
   {
    "duration": 196,
    "start_time": "2024-08-15T21:38:55.737Z"
   },
   {
    "duration": 687,
    "start_time": "2024-08-15T21:38:55.934Z"
   },
   {
    "duration": 486,
    "start_time": "2024-08-15T21:38:56.623Z"
   },
   {
    "duration": 5,
    "start_time": "2024-08-15T21:38:57.111Z"
   },
   {
    "duration": 6,
    "start_time": "2024-08-15T21:38:57.117Z"
   },
   {
    "duration": 8,
    "start_time": "2024-08-15T21:38:57.125Z"
   },
   {
    "duration": 13,
    "start_time": "2024-08-15T21:38:57.134Z"
   },
   {
    "duration": 27,
    "start_time": "2024-08-15T21:38:57.149Z"
   },
   {
    "duration": 9,
    "start_time": "2024-08-15T21:38:57.177Z"
   },
   {
    "duration": 3,
    "start_time": "2024-08-15T21:38:57.188Z"
   },
   {
    "duration": 23167,
    "start_time": "2024-08-15T21:38:57.193Z"
   },
   {
    "duration": 4,
    "start_time": "2024-08-15T21:39:20.361Z"
   },
   {
    "duration": 2700,
    "start_time": "2024-08-15T21:39:20.366Z"
   },
   {
    "duration": 1171,
    "start_time": "2024-08-15T21:39:39.676Z"
   },
   {
    "duration": 21,
    "start_time": "2024-08-15T21:39:40.849Z"
   },
   {
    "duration": 45,
    "start_time": "2024-08-15T21:39:40.872Z"
   },
   {
    "duration": 285,
    "start_time": "2024-08-15T21:39:40.918Z"
   },
   {
    "duration": 21,
    "start_time": "2024-08-15T21:39:41.206Z"
   },
   {
    "duration": 4,
    "start_time": "2024-08-15T21:39:41.229Z"
   },
   {
    "duration": 13,
    "start_time": "2024-08-15T21:39:41.234Z"
   },
   {
    "duration": 52,
    "start_time": "2024-08-15T21:39:41.249Z"
   },
   {
    "duration": 11,
    "start_time": "2024-08-15T21:39:41.302Z"
   },
   {
    "duration": 16,
    "start_time": "2024-08-15T21:39:41.314Z"
   },
   {
    "duration": 16,
    "start_time": "2024-08-15T21:39:41.331Z"
   },
   {
    "duration": 4,
    "start_time": "2024-08-15T21:39:41.348Z"
   },
   {
    "duration": 4,
    "start_time": "2024-08-15T21:39:41.353Z"
   },
   {
    "duration": 354,
    "start_time": "2024-08-15T21:39:41.359Z"
   },
   {
    "duration": 202,
    "start_time": "2024-08-15T21:39:41.715Z"
   },
   {
    "duration": 233,
    "start_time": "2024-08-15T21:39:41.918Z"
   },
   {
    "duration": 195,
    "start_time": "2024-08-15T21:39:42.153Z"
   },
   {
    "duration": 715,
    "start_time": "2024-08-15T21:39:42.350Z"
   },
   {
    "duration": 455,
    "start_time": "2024-08-15T21:39:43.067Z"
   },
   {
    "duration": 5,
    "start_time": "2024-08-15T21:39:43.524Z"
   },
   {
    "duration": 18,
    "start_time": "2024-08-15T21:39:43.531Z"
   },
   {
    "duration": 6,
    "start_time": "2024-08-15T21:39:43.550Z"
   },
   {
    "duration": 8,
    "start_time": "2024-08-15T21:39:43.557Z"
   },
   {
    "duration": 22,
    "start_time": "2024-08-15T21:39:43.566Z"
   },
   {
    "duration": 9,
    "start_time": "2024-08-15T21:39:43.590Z"
   },
   {
    "duration": 5,
    "start_time": "2024-08-15T21:39:43.600Z"
   },
   {
    "duration": 27143,
    "start_time": "2024-08-15T21:39:43.606Z"
   },
   {
    "duration": 4,
    "start_time": "2024-08-15T21:40:10.750Z"
   },
   {
    "duration": 3412,
    "start_time": "2024-08-15T21:40:10.756Z"
   },
   {
    "duration": 1049,
    "start_time": "2024-08-15T21:40:33.201Z"
   },
   {
    "duration": 20,
    "start_time": "2024-08-15T21:40:34.252Z"
   },
   {
    "duration": 44,
    "start_time": "2024-08-15T21:40:34.274Z"
   },
   {
    "duration": 292,
    "start_time": "2024-08-15T21:40:34.319Z"
   },
   {
    "duration": 22,
    "start_time": "2024-08-15T21:40:34.613Z"
   },
   {
    "duration": 3,
    "start_time": "2024-08-15T21:40:34.637Z"
   },
   {
    "duration": 10,
    "start_time": "2024-08-15T21:40:34.646Z"
   },
   {
    "duration": 51,
    "start_time": "2024-08-15T21:40:34.658Z"
   },
   {
    "duration": 11,
    "start_time": "2024-08-15T21:40:34.710Z"
   },
   {
    "duration": 9,
    "start_time": "2024-08-15T21:40:34.723Z"
   },
   {
    "duration": 26,
    "start_time": "2024-08-15T21:40:34.734Z"
   },
   {
    "duration": 4,
    "start_time": "2024-08-15T21:40:34.762Z"
   },
   {
    "duration": 4,
    "start_time": "2024-08-15T21:40:34.768Z"
   },
   {
    "duration": 399,
    "start_time": "2024-08-15T21:40:34.774Z"
   },
   {
    "duration": 214,
    "start_time": "2024-08-15T21:40:35.174Z"
   },
   {
    "duration": 233,
    "start_time": "2024-08-15T21:40:35.390Z"
   },
   {
    "duration": 192,
    "start_time": "2024-08-15T21:40:35.624Z"
   },
   {
    "duration": 675,
    "start_time": "2024-08-15T21:40:35.818Z"
   },
   {
    "duration": 460,
    "start_time": "2024-08-15T21:40:36.496Z"
   },
   {
    "duration": 6,
    "start_time": "2024-08-15T21:40:36.958Z"
   },
   {
    "duration": 7,
    "start_time": "2024-08-15T21:40:36.966Z"
   },
   {
    "duration": 5,
    "start_time": "2024-08-15T21:40:36.975Z"
   },
   {
    "duration": 9,
    "start_time": "2024-08-15T21:40:36.982Z"
   },
   {
    "duration": 55,
    "start_time": "2024-08-15T21:40:36.993Z"
   },
   {
    "duration": 12,
    "start_time": "2024-08-15T21:40:37.050Z"
   },
   {
    "duration": 5,
    "start_time": "2024-08-15T21:40:37.063Z"
   },
   {
    "duration": 14278,
    "start_time": "2024-08-15T21:40:37.070Z"
   },
   {
    "duration": 4,
    "start_time": "2024-08-15T21:40:51.349Z"
   },
   {
    "duration": 2494,
    "start_time": "2024-08-15T21:40:51.354Z"
   },
   {
    "duration": 1116,
    "start_time": "2024-08-15T21:41:21.283Z"
   },
   {
    "duration": 21,
    "start_time": "2024-08-15T21:41:22.401Z"
   },
   {
    "duration": 48,
    "start_time": "2024-08-15T21:41:22.424Z"
   },
   {
    "duration": 265,
    "start_time": "2024-08-15T21:41:22.474Z"
   },
   {
    "duration": 22,
    "start_time": "2024-08-15T21:41:22.742Z"
   },
   {
    "duration": 4,
    "start_time": "2024-08-15T21:41:22.765Z"
   },
   {
    "duration": 6,
    "start_time": "2024-08-15T21:41:22.770Z"
   },
   {
    "duration": 50,
    "start_time": "2024-08-15T21:41:22.777Z"
   },
   {
    "duration": 10,
    "start_time": "2024-08-15T21:41:22.829Z"
   },
   {
    "duration": 9,
    "start_time": "2024-08-15T21:41:22.841Z"
   },
   {
    "duration": 17,
    "start_time": "2024-08-15T21:41:22.852Z"
   },
   {
    "duration": 3,
    "start_time": "2024-08-15T21:41:22.870Z"
   },
   {
    "duration": 4,
    "start_time": "2024-08-15T21:41:22.875Z"
   },
   {
    "duration": 368,
    "start_time": "2024-08-15T21:41:22.881Z"
   },
   {
    "duration": 232,
    "start_time": "2024-08-15T21:41:23.251Z"
   },
   {
    "duration": 242,
    "start_time": "2024-08-15T21:41:23.484Z"
   },
   {
    "duration": 187,
    "start_time": "2024-08-15T21:41:23.727Z"
   },
   {
    "duration": 661,
    "start_time": "2024-08-15T21:41:23.916Z"
   },
   {
    "duration": 498,
    "start_time": "2024-08-15T21:41:24.579Z"
   },
   {
    "duration": 6,
    "start_time": "2024-08-15T21:41:25.079Z"
   },
   {
    "duration": 10,
    "start_time": "2024-08-15T21:41:25.088Z"
   },
   {
    "duration": 14,
    "start_time": "2024-08-15T21:41:25.100Z"
   },
   {
    "duration": 10,
    "start_time": "2024-08-15T21:41:25.116Z"
   },
   {
    "duration": 52,
    "start_time": "2024-08-15T21:41:25.128Z"
   },
   {
    "duration": 10,
    "start_time": "2024-08-15T21:41:25.182Z"
   },
   {
    "duration": 5,
    "start_time": "2024-08-15T21:41:25.193Z"
   },
   {
    "duration": 15162,
    "start_time": "2024-08-15T21:41:25.199Z"
   },
   {
    "duration": 4,
    "start_time": "2024-08-15T21:41:40.363Z"
   },
   {
    "duration": 2301,
    "start_time": "2024-08-15T21:41:40.447Z"
   },
   {
    "duration": 1794,
    "start_time": "2024-08-15T21:48:17.164Z"
   },
   {
    "duration": 4,
    "start_time": "2024-08-15T21:48:22.368Z"
   },
   {
    "duration": 13156,
    "start_time": "2024-08-15T21:48:24.200Z"
   },
   {
    "duration": 1163,
    "start_time": "2024-08-15T21:56:10.191Z"
   },
   {
    "duration": 1543,
    "start_time": "2024-08-15T21:56:55.448Z"
   },
   {
    "duration": 1229,
    "start_time": "2024-08-15T21:57:14.630Z"
   },
   {
    "duration": 21,
    "start_time": "2024-08-15T21:57:15.861Z"
   },
   {
    "duration": 43,
    "start_time": "2024-08-15T21:57:15.884Z"
   },
   {
    "duration": 309,
    "start_time": "2024-08-15T21:57:15.929Z"
   },
   {
    "duration": 23,
    "start_time": "2024-08-15T21:57:16.240Z"
   },
   {
    "duration": 3,
    "start_time": "2024-08-15T21:57:16.265Z"
   },
   {
    "duration": 4,
    "start_time": "2024-08-15T21:57:16.270Z"
   },
   {
    "duration": 54,
    "start_time": "2024-08-15T21:57:16.276Z"
   },
   {
    "duration": 11,
    "start_time": "2024-08-15T21:57:16.332Z"
   },
   {
    "duration": 12,
    "start_time": "2024-08-15T21:57:16.344Z"
   },
   {
    "duration": 22,
    "start_time": "2024-08-15T21:57:16.358Z"
   },
   {
    "duration": 4,
    "start_time": "2024-08-15T21:57:16.382Z"
   },
   {
    "duration": 13,
    "start_time": "2024-08-15T21:57:16.388Z"
   },
   {
    "duration": 383,
    "start_time": "2024-08-15T21:57:16.405Z"
   },
   {
    "duration": 206,
    "start_time": "2024-08-15T21:57:16.790Z"
   },
   {
    "duration": 235,
    "start_time": "2024-08-15T21:57:16.997Z"
   },
   {
    "duration": 192,
    "start_time": "2024-08-15T21:57:17.234Z"
   },
   {
    "duration": 638,
    "start_time": "2024-08-15T21:57:17.427Z"
   },
   {
    "duration": 464,
    "start_time": "2024-08-15T21:57:18.066Z"
   },
   {
    "duration": 5,
    "start_time": "2024-08-15T21:57:18.532Z"
   },
   {
    "duration": 18,
    "start_time": "2024-08-15T21:57:18.547Z"
   },
   {
    "duration": 13,
    "start_time": "2024-08-15T21:57:18.566Z"
   },
   {
    "duration": 19,
    "start_time": "2024-08-15T21:57:18.581Z"
   },
   {
    "duration": 41,
    "start_time": "2024-08-15T21:57:18.601Z"
   },
   {
    "duration": 10,
    "start_time": "2024-08-15T21:57:18.643Z"
   },
   {
    "duration": 14,
    "start_time": "2024-08-15T21:57:18.654Z"
   },
   {
    "duration": 14586,
    "start_time": "2024-08-15T21:57:18.670Z"
   },
   {
    "duration": 4,
    "start_time": "2024-08-15T21:57:33.258Z"
   },
   {
    "duration": 2285,
    "start_time": "2024-08-15T21:57:33.263Z"
   },
   {
    "duration": 1358,
    "start_time": "2024-08-15T21:57:35.549Z"
   },
   {
    "duration": 13,
    "start_time": "2024-08-15T21:57:55.065Z"
   },
   {
    "duration": 595,
    "start_time": "2024-08-15T21:58:05.952Z"
   },
   {
    "duration": 1195,
    "start_time": "2024-08-15T21:59:06.758Z"
   },
   {
    "duration": 21,
    "start_time": "2024-08-15T21:59:07.955Z"
   },
   {
    "duration": 43,
    "start_time": "2024-08-15T21:59:07.977Z"
   },
   {
    "duration": 286,
    "start_time": "2024-08-15T21:59:08.022Z"
   },
   {
    "duration": 23,
    "start_time": "2024-08-15T21:59:08.310Z"
   },
   {
    "duration": 15,
    "start_time": "2024-08-15T21:59:08.334Z"
   },
   {
    "duration": 29,
    "start_time": "2024-08-15T21:59:08.351Z"
   },
   {
    "duration": 57,
    "start_time": "2024-08-15T21:59:08.381Z"
   },
   {
    "duration": 12,
    "start_time": "2024-08-15T21:59:08.440Z"
   },
   {
    "duration": 9,
    "start_time": "2024-08-15T21:59:08.454Z"
   },
   {
    "duration": 18,
    "start_time": "2024-08-15T21:59:08.465Z"
   },
   {
    "duration": 3,
    "start_time": "2024-08-15T21:59:08.485Z"
   },
   {
    "duration": 8,
    "start_time": "2024-08-15T21:59:08.489Z"
   },
   {
    "duration": 357,
    "start_time": "2024-08-15T21:59:08.499Z"
   },
   {
    "duration": 221,
    "start_time": "2024-08-15T21:59:08.858Z"
   },
   {
    "duration": 269,
    "start_time": "2024-08-15T21:59:09.081Z"
   },
   {
    "duration": 198,
    "start_time": "2024-08-15T21:59:09.352Z"
   },
   {
    "duration": 697,
    "start_time": "2024-08-15T21:59:09.552Z"
   },
   {
    "duration": 467,
    "start_time": "2024-08-15T21:59:10.251Z"
   },
   {
    "duration": 5,
    "start_time": "2024-08-15T21:59:10.720Z"
   },
   {
    "duration": 21,
    "start_time": "2024-08-15T21:59:10.726Z"
   },
   {
    "duration": 6,
    "start_time": "2024-08-15T21:59:10.748Z"
   },
   {
    "duration": 5,
    "start_time": "2024-08-15T21:59:10.756Z"
   },
   {
    "duration": 39,
    "start_time": "2024-08-15T21:59:10.763Z"
   },
   {
    "duration": 13,
    "start_time": "2024-08-15T21:59:10.803Z"
   },
   {
    "duration": 30,
    "start_time": "2024-08-15T21:59:10.817Z"
   },
   {
    "duration": 17298,
    "start_time": "2024-08-15T21:59:10.849Z"
   },
   {
    "duration": 4,
    "start_time": "2024-08-15T21:59:28.149Z"
   },
   {
    "duration": 2703,
    "start_time": "2024-08-15T21:59:28.155Z"
   },
   {
    "duration": 817,
    "start_time": "2024-08-15T21:59:30.948Z"
   },
   {
    "duration": 1253,
    "start_time": "2024-08-15T22:00:40.696Z"
   },
   {
    "duration": 1111,
    "start_time": "2024-08-15T22:01:21.541Z"
   },
   {
    "duration": 21,
    "start_time": "2024-08-15T22:01:22.654Z"
   },
   {
    "duration": 57,
    "start_time": "2024-08-15T22:01:22.677Z"
   },
   {
    "duration": 277,
    "start_time": "2024-08-15T22:01:22.736Z"
   },
   {
    "duration": 22,
    "start_time": "2024-08-15T22:01:23.015Z"
   },
   {
    "duration": 5,
    "start_time": "2024-08-15T22:01:23.046Z"
   },
   {
    "duration": 7,
    "start_time": "2024-08-15T22:01:23.052Z"
   },
   {
    "duration": 53,
    "start_time": "2024-08-15T22:01:23.060Z"
   },
   {
    "duration": 11,
    "start_time": "2024-08-15T22:01:23.114Z"
   },
   {
    "duration": 10,
    "start_time": "2024-08-15T22:01:23.128Z"
   },
   {
    "duration": 21,
    "start_time": "2024-08-15T22:01:23.139Z"
   },
   {
    "duration": 4,
    "start_time": "2024-08-15T22:01:23.161Z"
   },
   {
    "duration": 5,
    "start_time": "2024-08-15T22:01:23.166Z"
   },
   {
    "duration": 376,
    "start_time": "2024-08-15T22:01:23.173Z"
   },
   {
    "duration": 201,
    "start_time": "2024-08-15T22:01:23.551Z"
   },
   {
    "duration": 218,
    "start_time": "2024-08-15T22:01:23.753Z"
   },
   {
    "duration": 181,
    "start_time": "2024-08-15T22:01:23.972Z"
   },
   {
    "duration": 698,
    "start_time": "2024-08-15T22:01:24.155Z"
   },
   {
    "duration": 492,
    "start_time": "2024-08-15T22:01:24.855Z"
   },
   {
    "duration": 6,
    "start_time": "2024-08-15T22:01:25.348Z"
   },
   {
    "duration": 7,
    "start_time": "2024-08-15T22:01:25.356Z"
   },
   {
    "duration": 40,
    "start_time": "2024-08-15T22:01:25.364Z"
   },
   {
    "duration": 26,
    "start_time": "2024-08-15T22:01:25.405Z"
   },
   {
    "duration": 70,
    "start_time": "2024-08-15T22:01:25.433Z"
   },
   {
    "duration": 11,
    "start_time": "2024-08-15T22:01:25.505Z"
   },
   {
    "duration": 4,
    "start_time": "2024-08-15T22:01:25.517Z"
   },
   {
    "duration": 30744,
    "start_time": "2024-08-15T22:01:25.523Z"
   },
   {
    "duration": 4,
    "start_time": "2024-08-15T22:01:56.349Z"
   },
   {
    "duration": 4895,
    "start_time": "2024-08-15T22:01:56.354Z"
   },
   {
    "duration": 1406,
    "start_time": "2024-08-15T22:02:01.251Z"
   },
   {
    "duration": 1099,
    "start_time": "2024-08-15T22:02:37.253Z"
   },
   {
    "duration": 22,
    "start_time": "2024-08-15T22:02:38.353Z"
   },
   {
    "duration": 42,
    "start_time": "2024-08-15T22:02:38.376Z"
   },
   {
    "duration": 316,
    "start_time": "2024-08-15T22:02:38.420Z"
   },
   {
    "duration": 30,
    "start_time": "2024-08-15T22:02:38.739Z"
   },
   {
    "duration": 4,
    "start_time": "2024-08-15T22:02:38.770Z"
   },
   {
    "duration": 8,
    "start_time": "2024-08-15T22:02:38.775Z"
   },
   {
    "duration": 57,
    "start_time": "2024-08-15T22:02:38.785Z"
   },
   {
    "duration": 11,
    "start_time": "2024-08-15T22:02:38.844Z"
   },
   {
    "duration": 9,
    "start_time": "2024-08-15T22:02:38.856Z"
   },
   {
    "duration": 14,
    "start_time": "2024-08-15T22:02:38.866Z"
   },
   {
    "duration": 3,
    "start_time": "2024-08-15T22:02:38.882Z"
   },
   {
    "duration": 12,
    "start_time": "2024-08-15T22:02:38.886Z"
   },
   {
    "duration": 369,
    "start_time": "2024-08-15T22:02:38.900Z"
   },
   {
    "duration": 201,
    "start_time": "2024-08-15T22:02:39.270Z"
   },
   {
    "duration": 218,
    "start_time": "2024-08-15T22:02:39.472Z"
   },
   {
    "duration": 203,
    "start_time": "2024-08-15T22:02:39.692Z"
   },
   {
    "duration": 688,
    "start_time": "2024-08-15T22:02:39.897Z"
   },
   {
    "duration": 450,
    "start_time": "2024-08-15T22:02:40.587Z"
   },
   {
    "duration": 12,
    "start_time": "2024-08-15T22:02:41.038Z"
   },
   {
    "duration": 13,
    "start_time": "2024-08-15T22:02:41.051Z"
   },
   {
    "duration": 6,
    "start_time": "2024-08-15T22:02:41.066Z"
   },
   {
    "duration": 5,
    "start_time": "2024-08-15T22:02:41.073Z"
   },
   {
    "duration": 89,
    "start_time": "2024-08-15T22:02:41.080Z"
   },
   {
    "duration": 15,
    "start_time": "2024-08-15T22:02:41.170Z"
   },
   {
    "duration": 5,
    "start_time": "2024-08-15T22:02:41.186Z"
   },
   {
    "duration": 42467,
    "start_time": "2024-08-15T22:02:41.192Z"
   },
   {
    "duration": 4,
    "start_time": "2024-08-15T22:03:23.661Z"
   },
   {
    "duration": 6081,
    "start_time": "2024-08-15T22:03:23.666Z"
   },
   {
    "duration": 1801,
    "start_time": "2024-08-15T22:03:29.749Z"
   },
   {
    "duration": 1197,
    "start_time": "2024-08-15T22:04:04.553Z"
   },
   {
    "duration": 21,
    "start_time": "2024-08-15T22:04:05.753Z"
   },
   {
    "duration": 106,
    "start_time": "2024-08-15T22:04:05.775Z"
   },
   {
    "duration": 306,
    "start_time": "2024-08-15T22:04:05.883Z"
   },
   {
    "duration": 22,
    "start_time": "2024-08-15T22:04:06.191Z"
   },
   {
    "duration": 4,
    "start_time": "2024-08-15T22:04:06.215Z"
   },
   {
    "duration": 8,
    "start_time": "2024-08-15T22:04:06.220Z"
   },
   {
    "duration": 54,
    "start_time": "2024-08-15T22:04:06.229Z"
   },
   {
    "duration": 13,
    "start_time": "2024-08-15T22:04:06.284Z"
   },
   {
    "duration": 14,
    "start_time": "2024-08-15T22:04:06.306Z"
   },
   {
    "duration": 31,
    "start_time": "2024-08-15T22:04:06.322Z"
   },
   {
    "duration": 4,
    "start_time": "2024-08-15T22:04:06.355Z"
   },
   {
    "duration": 12,
    "start_time": "2024-08-15T22:04:06.360Z"
   },
   {
    "duration": 353,
    "start_time": "2024-08-15T22:04:06.375Z"
   },
   {
    "duration": 197,
    "start_time": "2024-08-15T22:04:06.729Z"
   },
   {
    "duration": 250,
    "start_time": "2024-08-15T22:04:06.927Z"
   },
   {
    "duration": 190,
    "start_time": "2024-08-15T22:04:07.178Z"
   },
   {
    "duration": 700,
    "start_time": "2024-08-15T22:04:07.369Z"
   },
   {
    "duration": 441,
    "start_time": "2024-08-15T22:04:08.071Z"
   },
   {
    "duration": 6,
    "start_time": "2024-08-15T22:04:08.513Z"
   },
   {
    "duration": 23,
    "start_time": "2024-08-15T22:04:08.520Z"
   },
   {
    "duration": 6,
    "start_time": "2024-08-15T22:04:08.544Z"
   },
   {
    "duration": 9,
    "start_time": "2024-08-15T22:04:08.551Z"
   },
   {
    "duration": 63,
    "start_time": "2024-08-15T22:04:08.562Z"
   },
   {
    "duration": 23,
    "start_time": "2024-08-15T22:04:08.627Z"
   },
   {
    "duration": 23,
    "start_time": "2024-08-15T22:04:08.652Z"
   },
   {
    "duration": 40987,
    "start_time": "2024-08-15T22:04:08.676Z"
   },
   {
    "duration": 5,
    "start_time": "2024-08-15T22:04:49.749Z"
   },
   {
    "duration": 5691,
    "start_time": "2024-08-15T22:04:49.756Z"
   },
   {
    "duration": 1409,
    "start_time": "2024-08-15T22:04:55.450Z"
   },
   {
    "duration": 1124,
    "start_time": "2024-08-15T22:05:43.190Z"
   },
   {
    "duration": 21,
    "start_time": "2024-08-15T22:05:44.316Z"
   },
   {
    "duration": 48,
    "start_time": "2024-08-15T22:05:44.339Z"
   },
   {
    "duration": 307,
    "start_time": "2024-08-15T22:05:44.389Z"
   },
   {
    "duration": 22,
    "start_time": "2024-08-15T22:05:44.698Z"
   },
   {
    "duration": 4,
    "start_time": "2024-08-15T22:05:44.722Z"
   },
   {
    "duration": 6,
    "start_time": "2024-08-15T22:05:44.728Z"
   },
   {
    "duration": 59,
    "start_time": "2024-08-15T22:05:44.736Z"
   },
   {
    "duration": 11,
    "start_time": "2024-08-15T22:05:44.797Z"
   },
   {
    "duration": 24,
    "start_time": "2024-08-15T22:05:44.809Z"
   },
   {
    "duration": 14,
    "start_time": "2024-08-15T22:05:44.836Z"
   },
   {
    "duration": 3,
    "start_time": "2024-08-15T22:05:44.852Z"
   },
   {
    "duration": 5,
    "start_time": "2024-08-15T22:05:44.856Z"
   },
   {
    "duration": 382,
    "start_time": "2024-08-15T22:05:44.863Z"
   },
   {
    "duration": 227,
    "start_time": "2024-08-15T22:05:45.248Z"
   },
   {
    "duration": 238,
    "start_time": "2024-08-15T22:05:45.478Z"
   },
   {
    "duration": 194,
    "start_time": "2024-08-15T22:05:45.718Z"
   },
   {
    "duration": 656,
    "start_time": "2024-08-15T22:05:45.913Z"
   },
   {
    "duration": 447,
    "start_time": "2024-08-15T22:05:46.571Z"
   },
   {
    "duration": 6,
    "start_time": "2024-08-15T22:05:47.019Z"
   },
   {
    "duration": 56,
    "start_time": "2024-08-15T22:05:47.026Z"
   },
   {
    "duration": 6,
    "start_time": "2024-08-15T22:05:47.085Z"
   },
   {
    "duration": 4,
    "start_time": "2024-08-15T22:05:47.092Z"
   },
   {
    "duration": 71,
    "start_time": "2024-08-15T22:05:47.098Z"
   },
   {
    "duration": 14,
    "start_time": "2024-08-15T22:05:47.170Z"
   },
   {
    "duration": 4,
    "start_time": "2024-08-15T22:05:47.185Z"
   },
   {
    "duration": 42359,
    "start_time": "2024-08-15T22:05:47.190Z"
   },
   {
    "duration": 4,
    "start_time": "2024-08-15T22:06:29.550Z"
   },
   {
    "duration": 6094,
    "start_time": "2024-08-15T22:06:29.556Z"
   },
   {
    "duration": 802,
    "start_time": "2024-08-15T22:06:35.652Z"
   },
   {
    "duration": 1126,
    "start_time": "2024-08-15T22:14:23.220Z"
   },
   {
    "duration": 21,
    "start_time": "2024-08-15T22:14:24.348Z"
   },
   {
    "duration": 42,
    "start_time": "2024-08-15T22:14:24.371Z"
   },
   {
    "duration": 278,
    "start_time": "2024-08-15T22:14:24.414Z"
   },
   {
    "duration": 23,
    "start_time": "2024-08-15T22:14:24.694Z"
   },
   {
    "duration": 6,
    "start_time": "2024-08-15T22:14:24.718Z"
   },
   {
    "duration": 6,
    "start_time": "2024-08-15T22:14:24.725Z"
   },
   {
    "duration": 62,
    "start_time": "2024-08-15T22:14:24.732Z"
   },
   {
    "duration": 15,
    "start_time": "2024-08-15T22:14:24.796Z"
   },
   {
    "duration": 10,
    "start_time": "2024-08-15T22:14:24.813Z"
   },
   {
    "duration": 14,
    "start_time": "2024-08-15T22:14:24.825Z"
   },
   {
    "duration": 3,
    "start_time": "2024-08-15T22:14:24.847Z"
   },
   {
    "duration": 10,
    "start_time": "2024-08-15T22:14:24.851Z"
   },
   {
    "duration": 402,
    "start_time": "2024-08-15T22:14:24.863Z"
   },
   {
    "duration": 210,
    "start_time": "2024-08-15T22:14:25.267Z"
   },
   {
    "duration": 233,
    "start_time": "2024-08-15T22:14:25.479Z"
   },
   {
    "duration": 192,
    "start_time": "2024-08-15T22:14:25.713Z"
   },
   {
    "duration": 679,
    "start_time": "2024-08-15T22:14:25.906Z"
   },
   {
    "duration": 493,
    "start_time": "2024-08-15T22:14:26.587Z"
   },
   {
    "duration": 6,
    "start_time": "2024-08-15T22:14:27.082Z"
   },
   {
    "duration": 12,
    "start_time": "2024-08-15T22:14:27.090Z"
   },
   {
    "duration": 6,
    "start_time": "2024-08-15T22:14:27.103Z"
   },
   {
    "duration": 17,
    "start_time": "2024-08-15T22:14:27.111Z"
   },
   {
    "duration": 87,
    "start_time": "2024-08-15T22:14:27.129Z"
   },
   {
    "duration": 13,
    "start_time": "2024-08-15T22:14:27.218Z"
   },
   {
    "duration": 5,
    "start_time": "2024-08-15T22:14:27.246Z"
   },
   {
    "duration": 41402,
    "start_time": "2024-08-15T22:14:27.252Z"
   },
   {
    "duration": 3,
    "start_time": "2024-08-15T22:15:08.656Z"
   },
   {
    "duration": 6389,
    "start_time": "2024-08-15T22:15:08.661Z"
   },
   {
    "duration": 902,
    "start_time": "2024-08-15T22:15:15.053Z"
   },
   {
    "duration": 1310,
    "start_time": "2024-08-16T07:30:11.738Z"
   },
   {
    "duration": 23,
    "start_time": "2024-08-16T07:30:13.050Z"
   },
   {
    "duration": 4230,
    "start_time": "2024-08-16T07:30:13.074Z"
   },
   {
    "duration": 355,
    "start_time": "2024-08-16T07:30:17.306Z"
   },
   {
    "duration": 25,
    "start_time": "2024-08-16T07:30:17.663Z"
   },
   {
    "duration": 5,
    "start_time": "2024-08-16T07:30:17.690Z"
   },
   {
    "duration": 5,
    "start_time": "2024-08-16T07:30:17.697Z"
   },
   {
    "duration": 190,
    "start_time": "2024-08-16T07:30:17.704Z"
   },
   {
    "duration": 12,
    "start_time": "2024-08-16T07:30:17.895Z"
   },
   {
    "duration": 11,
    "start_time": "2024-08-16T07:30:17.909Z"
   },
   {
    "duration": 15,
    "start_time": "2024-08-16T07:30:17.921Z"
   },
   {
    "duration": 46,
    "start_time": "2024-08-16T07:30:17.938Z"
   },
   {
    "duration": 4,
    "start_time": "2024-08-16T07:30:17.986Z"
   },
   {
    "duration": 359,
    "start_time": "2024-08-16T07:30:17.992Z"
   },
   {
    "duration": 219,
    "start_time": "2024-08-16T07:30:18.352Z"
   },
   {
    "duration": 253,
    "start_time": "2024-08-16T07:30:18.573Z"
   },
   {
    "duration": 198,
    "start_time": "2024-08-16T07:30:18.828Z"
   },
   {
    "duration": 833,
    "start_time": "2024-08-16T07:30:19.028Z"
   },
   {
    "duration": 535,
    "start_time": "2024-08-16T07:30:19.862Z"
   },
   {
    "duration": 6,
    "start_time": "2024-08-16T07:30:20.399Z"
   },
   {
    "duration": 20,
    "start_time": "2024-08-16T07:30:20.407Z"
   },
   {
    "duration": 7,
    "start_time": "2024-08-16T07:30:20.428Z"
   },
   {
    "duration": 72,
    "start_time": "2024-08-16T07:30:20.437Z"
   },
   {
    "duration": 74,
    "start_time": "2024-08-16T07:30:20.511Z"
   },
   {
    "duration": 13,
    "start_time": "2024-08-16T07:30:20.586Z"
   },
   {
    "duration": 4,
    "start_time": "2024-08-16T07:30:20.601Z"
   },
   {
    "duration": 105631,
    "start_time": "2024-08-16T07:30:20.607Z"
   },
   {
    "duration": 4,
    "start_time": "2024-08-16T07:32:06.324Z"
   },
   {
    "duration": 5600,
    "start_time": "2024-08-16T07:32:06.330Z"
   },
   {
    "duration": 797,
    "start_time": "2024-08-16T07:32:11.934Z"
   },
   {
    "duration": 709,
    "start_time": "2024-08-16T07:33:40.817Z"
   },
   {
    "duration": 1148,
    "start_time": "2024-08-16T07:38:03.397Z"
   },
   {
    "duration": 21,
    "start_time": "2024-08-16T07:38:04.547Z"
   },
   {
    "duration": 55,
    "start_time": "2024-08-16T07:38:04.569Z"
   },
   {
    "duration": 295,
    "start_time": "2024-08-16T07:38:04.626Z"
   },
   {
    "duration": 23,
    "start_time": "2024-08-16T07:38:04.923Z"
   },
   {
    "duration": 3,
    "start_time": "2024-08-16T07:38:04.948Z"
   },
   {
    "duration": 9,
    "start_time": "2024-08-16T07:38:04.953Z"
   },
   {
    "duration": 57,
    "start_time": "2024-08-16T07:38:04.963Z"
   },
   {
    "duration": 10,
    "start_time": "2024-08-16T07:38:05.022Z"
   },
   {
    "duration": 10,
    "start_time": "2024-08-16T07:38:05.034Z"
   },
   {
    "duration": 44,
    "start_time": "2024-08-16T07:38:05.046Z"
   },
   {
    "duration": 3,
    "start_time": "2024-08-16T07:38:05.092Z"
   },
   {
    "duration": 5,
    "start_time": "2024-08-16T07:38:05.097Z"
   },
   {
    "duration": 341,
    "start_time": "2024-08-16T07:38:05.104Z"
   },
   {
    "duration": 215,
    "start_time": "2024-08-16T07:38:05.447Z"
   },
   {
    "duration": 246,
    "start_time": "2024-08-16T07:38:05.664Z"
   },
   {
    "duration": 190,
    "start_time": "2024-08-16T07:38:05.912Z"
   },
   {
    "duration": 717,
    "start_time": "2024-08-16T07:38:06.104Z"
   },
   {
    "duration": 486,
    "start_time": "2024-08-16T07:38:06.822Z"
   },
   {
    "duration": 14,
    "start_time": "2024-08-16T07:38:07.310Z"
   },
   {
    "duration": 6,
    "start_time": "2024-08-16T07:38:07.326Z"
   },
   {
    "duration": 67,
    "start_time": "2024-08-16T07:38:07.333Z"
   },
   {
    "duration": 4,
    "start_time": "2024-08-16T07:38:07.401Z"
   },
   {
    "duration": 34,
    "start_time": "2024-08-16T07:38:07.407Z"
   },
   {
    "duration": 127,
    "start_time": "2024-08-16T07:38:07.443Z"
   },
   {
    "duration": 0,
    "start_time": "2024-08-16T07:38:07.571Z"
   },
   {
    "duration": 0,
    "start_time": "2024-08-16T07:38:07.572Z"
   },
   {
    "duration": 0,
    "start_time": "2024-08-16T07:38:07.573Z"
   },
   {
    "duration": 0,
    "start_time": "2024-08-16T07:38:07.574Z"
   },
   {
    "duration": 0,
    "start_time": "2024-08-16T07:38:07.575Z"
   },
   {
    "duration": 1255,
    "start_time": "2024-08-16T07:39:39.736Z"
   },
   {
    "duration": 22,
    "start_time": "2024-08-16T07:39:40.993Z"
   },
   {
    "duration": 53,
    "start_time": "2024-08-16T07:39:41.016Z"
   },
   {
    "duration": 318,
    "start_time": "2024-08-16T07:39:41.072Z"
   },
   {
    "duration": 24,
    "start_time": "2024-08-16T07:39:41.393Z"
   },
   {
    "duration": 6,
    "start_time": "2024-08-16T07:39:41.419Z"
   },
   {
    "duration": 22,
    "start_time": "2024-08-16T07:39:41.426Z"
   },
   {
    "duration": 74,
    "start_time": "2024-08-16T07:39:41.451Z"
   },
   {
    "duration": 11,
    "start_time": "2024-08-16T07:39:41.526Z"
   },
   {
    "duration": 10,
    "start_time": "2024-08-16T07:39:41.539Z"
   },
   {
    "duration": 19,
    "start_time": "2024-08-16T07:39:41.551Z"
   },
   {
    "duration": 9,
    "start_time": "2024-08-16T07:39:41.572Z"
   },
   {
    "duration": 11,
    "start_time": "2024-08-16T07:39:41.583Z"
   },
   {
    "duration": 362,
    "start_time": "2024-08-16T07:39:41.597Z"
   },
   {
    "duration": 221,
    "start_time": "2024-08-16T07:39:41.961Z"
   },
   {
    "duration": 253,
    "start_time": "2024-08-16T07:39:42.184Z"
   },
   {
    "duration": 187,
    "start_time": "2024-08-16T07:39:42.439Z"
   },
   {
    "duration": 753,
    "start_time": "2024-08-16T07:39:42.628Z"
   },
   {
    "duration": 523,
    "start_time": "2024-08-16T07:39:43.383Z"
   },
   {
    "duration": 16,
    "start_time": "2024-08-16T07:39:43.908Z"
   },
   {
    "duration": 5,
    "start_time": "2024-08-16T07:39:43.926Z"
   },
   {
    "duration": 42,
    "start_time": "2024-08-16T07:39:43.933Z"
   },
   {
    "duration": 39,
    "start_time": "2024-08-16T07:39:43.977Z"
   },
   {
    "duration": 80,
    "start_time": "2024-08-16T07:39:44.017Z"
   },
   {
    "duration": 12,
    "start_time": "2024-08-16T07:39:44.098Z"
   },
   {
    "duration": 6,
    "start_time": "2024-08-16T07:39:44.112Z"
   },
   {
    "duration": 27799,
    "start_time": "2024-08-16T07:39:44.125Z"
   },
   {
    "duration": 4,
    "start_time": "2024-08-16T07:40:11.926Z"
   },
   {
    "duration": 5894,
    "start_time": "2024-08-16T07:40:11.931Z"
   },
   {
    "duration": 898,
    "start_time": "2024-08-16T07:40:17.828Z"
   },
   {
    "duration": 794,
    "start_time": "2024-08-16T07:41:47.494Z"
   },
   {
    "duration": 681,
    "start_time": "2024-08-16T07:41:58.869Z"
   },
   {
    "duration": 745,
    "start_time": "2024-08-16T07:42:25.854Z"
   },
   {
    "duration": 783,
    "start_time": "2024-08-16T07:43:01.086Z"
   },
   {
    "duration": 770,
    "start_time": "2024-08-16T07:47:27.473Z"
   },
   {
    "duration": 774,
    "start_time": "2024-08-16T07:47:58.442Z"
   },
   {
    "duration": 210,
    "start_time": "2024-08-16T07:48:24.441Z"
   },
   {
    "duration": 329,
    "start_time": "2024-08-16T07:49:58.519Z"
   },
   {
    "duration": 242,
    "start_time": "2024-08-16T07:50:19.391Z"
   },
   {
    "duration": 238,
    "start_time": "2024-08-16T07:51:15.127Z"
   },
   {
    "duration": 64,
    "start_time": "2024-08-16T07:51:36.525Z"
   },
   {
    "duration": 206,
    "start_time": "2024-08-16T07:53:05.684Z"
   },
   {
    "duration": 233,
    "start_time": "2024-08-16T07:53:20.596Z"
   },
   {
    "duration": 12,
    "start_time": "2024-08-16T08:00:11.519Z"
   },
   {
    "duration": 237,
    "start_time": "2024-08-16T08:00:18.515Z"
   },
   {
    "duration": 252,
    "start_time": "2024-08-16T08:01:51.008Z"
   },
   {
    "duration": 364,
    "start_time": "2024-08-16T08:02:33.727Z"
   },
   {
    "duration": 334,
    "start_time": "2024-08-16T08:02:46.095Z"
   },
   {
    "duration": 245,
    "start_time": "2024-08-16T08:02:54.517Z"
   },
   {
    "duration": 241,
    "start_time": "2024-08-16T08:03:00.892Z"
   },
   {
    "duration": 368,
    "start_time": "2024-08-16T08:04:50.291Z"
   },
   {
    "duration": 258,
    "start_time": "2024-08-16T08:07:13.483Z"
   },
   {
    "duration": 273,
    "start_time": "2024-08-16T08:07:49.146Z"
   },
   {
    "duration": 279,
    "start_time": "2024-08-16T08:07:58.490Z"
   },
   {
    "duration": 285,
    "start_time": "2024-08-16T08:08:18.474Z"
   },
   {
    "duration": 285,
    "start_time": "2024-08-16T08:08:40.897Z"
   },
   {
    "duration": 281,
    "start_time": "2024-08-16T08:09:47.136Z"
   },
   {
    "duration": 409,
    "start_time": "2024-08-16T08:10:57.871Z"
   },
   {
    "duration": 294,
    "start_time": "2024-08-16T08:11:05.880Z"
   },
   {
    "duration": 1688,
    "start_time": "2024-08-16T08:22:47.166Z"
   },
   {
    "duration": 70,
    "start_time": "2024-08-16T08:22:48.856Z"
   },
   {
    "duration": 46,
    "start_time": "2024-08-16T08:22:48.928Z"
   },
   {
    "duration": 340,
    "start_time": "2024-08-16T08:22:48.975Z"
   },
   {
    "duration": 22,
    "start_time": "2024-08-16T08:22:49.317Z"
   },
   {
    "duration": 3,
    "start_time": "2024-08-16T08:22:49.341Z"
   },
   {
    "duration": 5,
    "start_time": "2024-08-16T08:22:49.346Z"
   },
   {
    "duration": 64,
    "start_time": "2024-08-16T08:22:49.352Z"
   },
   {
    "duration": 10,
    "start_time": "2024-08-16T08:22:49.418Z"
   },
   {
    "duration": 16,
    "start_time": "2024-08-16T08:22:49.429Z"
   },
   {
    "duration": 13,
    "start_time": "2024-08-16T08:22:49.447Z"
   },
   {
    "duration": 4,
    "start_time": "2024-08-16T08:22:49.461Z"
   },
   {
    "duration": 5,
    "start_time": "2024-08-16T08:22:49.466Z"
   },
   {
    "duration": 376,
    "start_time": "2024-08-16T08:22:49.473Z"
   },
   {
    "duration": 216,
    "start_time": "2024-08-16T08:22:49.850Z"
   },
   {
    "duration": 263,
    "start_time": "2024-08-16T08:22:50.068Z"
   },
   {
    "duration": 201,
    "start_time": "2024-08-16T08:22:50.333Z"
   },
   {
    "duration": 252,
    "start_time": "2024-08-16T08:22:50.536Z"
   },
   {
    "duration": 703,
    "start_time": "2024-08-16T08:22:50.790Z"
   },
   {
    "duration": 498,
    "start_time": "2024-08-16T08:22:51.495Z"
   },
   {
    "duration": 6,
    "start_time": "2024-08-16T08:22:51.995Z"
   },
   {
    "duration": 21,
    "start_time": "2024-08-16T08:22:52.003Z"
   },
   {
    "duration": 12,
    "start_time": "2024-08-16T08:22:52.026Z"
   },
   {
    "duration": 5,
    "start_time": "2024-08-16T08:22:52.040Z"
   },
   {
    "duration": 201,
    "start_time": "2024-08-16T08:22:52.046Z"
   },
   {
    "duration": 12,
    "start_time": "2024-08-16T08:22:52.249Z"
   },
   {
    "duration": 4,
    "start_time": "2024-08-16T08:22:52.263Z"
   },
   {
    "duration": 25465,
    "start_time": "2024-08-16T08:22:52.268Z"
   },
   {
    "duration": 5,
    "start_time": "2024-08-16T08:23:17.735Z"
   },
   {
    "duration": 5283,
    "start_time": "2024-08-16T08:23:17.742Z"
   },
   {
    "duration": 896,
    "start_time": "2024-08-16T08:23:23.028Z"
   },
   {
    "duration": 305,
    "start_time": "2024-08-16T08:23:23.926Z"
   }
  ],
  "kernelspec": {
   "display_name": "Python 3 (ipykernel)",
   "language": "python",
   "name": "python3"
  },
  "language_info": {
   "codemirror_mode": {
    "name": "ipython",
    "version": 3
   },
   "file_extension": ".py",
   "mimetype": "text/x-python",
   "name": "python",
   "nbconvert_exporter": "python",
   "pygments_lexer": "ipython3",
   "version": "3.11.5"
  },
  "toc": {
   "base_numbering": 1,
   "nav_menu": {},
   "number_sections": true,
   "sideBar": true,
   "skip_h1_title": true,
   "title_cell": "Содержание",
   "title_sidebar": "Contents",
   "toc_cell": true,
   "toc_position": {
    "height": "calc(100% - 180px)",
    "left": "10px",
    "top": "150px",
    "width": "220px"
   },
   "toc_section_display": true,
   "toc_window_display": true
  }
 },
 "nbformat": 4,
 "nbformat_minor": 4
}
